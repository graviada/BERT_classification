{
  "cells": [
    {
      "cell_type": "code",
      "execution_count": 1,
      "metadata": {
        "id": "6LKmS-T3K9Vl"
      },
      "outputs": [],
      "source": [
        "!pip install evaluate --q\n",
        "!pip install datasets --q\n",
        "!pip install markovify --q\n",
        "!pip install pymorphy2 --q\n",
        "!pip install huggingface_hub --q\n",
        "!pip install transformers==4.28.0 --q"
      ]
    },
    {
      "cell_type": "code",
      "execution_count": 48,
      "metadata": {
        "colab": {
          "base_uri": "https://localhost:8080/"
        },
        "id": "MSITkcIfXpKU",
        "outputId": "ff7ec2f1-7b01-46ac-9415-182ac6781e84"
      },
      "outputs": [
        {
          "name": "stdout",
          "output_type": "stream",
          "text": [
            "\u001b[2K     \u001b[90m━━━━━━━━━━━━━━━━━━━━━━━━━━━━━━━━━━━━━━━━\u001b[0m \u001b[32m2.0/2.0 MB\u001b[0m \u001b[31m43.3 MB/s\u001b[0m eta \u001b[36m0:00:00\u001b[0m\n",
            "\u001b[2K     \u001b[90m━━━━━━━━━━━━━━━━━━━━━━━━━━━━━━━━━━━━━━\u001b[0m \u001b[32m184.3/184.3 kB\u001b[0m \u001b[31m20.3 MB/s\u001b[0m eta \u001b[36m0:00:00\u001b[0m\n",
            "\u001b[2K     \u001b[90m━━━━━━━━━━━━━━━━━━━━━━━━━━━━━━━━━━━━━━\u001b[0m \u001b[32m205.1/205.1 kB\u001b[0m \u001b[31m21.5 MB/s\u001b[0m eta \u001b[36m0:00:00\u001b[0m\n",
            "\u001b[?25h  Preparing metadata (setup.py) ... \u001b[?25l\u001b[?25hdone\n",
            "\u001b[2K     \u001b[90m━━━━━━━━━━━━━━━━━━━━━━━━━━━━━━━━━━━━━━━━\u001b[0m \u001b[32m62.7/62.7 kB\u001b[0m \u001b[31m6.6 MB/s\u001b[0m eta \u001b[36m0:00:00\u001b[0m\n",
            "\u001b[?25h  Building wheel for pathtools (setup.py) ... \u001b[?25l\u001b[?25hdone\n"
          ]
        }
      ],
      "source": [
        "!pip install wandb --q"
      ]
    },
    {
      "cell_type": "code",
      "execution_count": 1,
      "metadata": {
        "id": "HuZ7yO3aK5Mr"
      },
      "outputs": [],
      "source": [
        "import os\n",
        "import re\n",
        "import gc\n",
        "import numpy as np\n",
        "import pandas as pd\n",
        "from tqdm import tqdm\n",
        "from typing import List\n",
        "from functools import lru_cache, partial\n",
        "\n",
        "import nltk\n",
        "import torch\n",
        "import wandb\n",
        "import evaluate\n",
        "import markovify\n",
        "import pymorphy2\n",
        "import matplotlib.pyplot as plt\n",
        "from scipy.special import softmax\n",
        "from nltk.corpus import stopwords\n",
        "from datasets import Dataset, DatasetDict\n",
        "from sklearn.preprocessing import LabelEncoder\n",
        "from transformers.trainer_utils import set_seed\n",
        "from transformers import BertForSequenceClassification, BertTokenizerFast, \\\n",
        "    TrainingArguments, Trainer, EvalPrediction, DataCollatorWithPadding, RobertaTokenizerFast"
      ]
    },
    {
      "cell_type": "code",
      "execution_count": 2,
      "metadata": {
        "colab": {
          "base_uri": "https://localhost:8080/",
          "height": 36
        },
        "id": "nxLddpaOK5Mt",
        "outputId": "9fc5011e-ba6a-45d9-d43e-edde18c764c8"
      },
      "outputs": [
        {
          "data": {
            "application/vnd.google.colaboratory.intrinsic+json": {
              "type": "string"
            },
            "text/plain": [
              "'4.28.0'"
            ]
          },
          "execution_count": 2,
          "metadata": {},
          "output_type": "execute_result"
        }
      ],
      "source": [
        "import transformers\n",
        "\n",
        "\n",
        "transformers.__version__"
      ]
    },
    {
      "cell_type": "markdown",
      "metadata": {
        "id": "4xQCqmygK5Mt"
      },
      "source": [
        "### Пользовательские функции"
      ]
    },
    {
      "cell_type": "code",
      "execution_count": 3,
      "metadata": {
        "id": "ws_cJTUvK5Mv"
      },
      "outputs": [],
      "source": [
        "# Директория для обозначения настроек и интеграции с Kaggle\n",
        "# Распаковка в Ubuntu осуществляется с помощью !unzip, для Windows - ручная разархивация\n",
        "# os.environ['KAGGLE_CONFIG_DIR'] = 'C:\\\\Users\\\\Пользователь\\\\Documents\\\\Учеба\\\\Диплом\\\\Практика'\n",
        "# Отключение уведомлений от transformers\n",
        "os.environ['TRANSFORMERS_NO_ADVISORY_WARNINGS'] = 'true'"
      ]
    },
    {
      "cell_type": "markdown",
      "metadata": {
        "id": "o4SgGY-cL1iW"
      },
      "source": [
        "---\n",
        "Блок для Google Colab"
      ]
    },
    {
      "cell_type": "code",
      "execution_count": 5,
      "metadata": {
        "colab": {
          "base_uri": "https://localhost:8080/",
          "height": 89
        },
        "id": "bVXx8CpwQeUp",
        "outputId": "c227604b-9803-4904-d607-054da3c0b6df"
      },
      "outputs": [
        {
          "data": {
            "text/html": [
              "\n",
              "     <input type=\"file\" id=\"files-52c2c5a1-4f82-45be-9a89-ebfe7997f995\" name=\"files[]\" multiple disabled\n",
              "        style=\"border:none\" />\n",
              "     <output id=\"result-52c2c5a1-4f82-45be-9a89-ebfe7997f995\">\n",
              "      Upload widget is only available when the cell has been executed in the\n",
              "      current browser session. Please rerun this cell to enable.\n",
              "      </output>\n",
              "      <script>// Copyright 2017 Google LLC\n",
              "//\n",
              "// Licensed under the Apache License, Version 2.0 (the \"License\");\n",
              "// you may not use this file except in compliance with the License.\n",
              "// You may obtain a copy of the License at\n",
              "//\n",
              "//      http://www.apache.org/licenses/LICENSE-2.0\n",
              "//\n",
              "// Unless required by applicable law or agreed to in writing, software\n",
              "// distributed under the License is distributed on an \"AS IS\" BASIS,\n",
              "// WITHOUT WARRANTIES OR CONDITIONS OF ANY KIND, either express or implied.\n",
              "// See the License for the specific language governing permissions and\n",
              "// limitations under the License.\n",
              "\n",
              "/**\n",
              " * @fileoverview Helpers for google.colab Python module.\n",
              " */\n",
              "(function(scope) {\n",
              "function span(text, styleAttributes = {}) {\n",
              "  const element = document.createElement('span');\n",
              "  element.textContent = text;\n",
              "  for (const key of Object.keys(styleAttributes)) {\n",
              "    element.style[key] = styleAttributes[key];\n",
              "  }\n",
              "  return element;\n",
              "}\n",
              "\n",
              "// Max number of bytes which will be uploaded at a time.\n",
              "const MAX_PAYLOAD_SIZE = 100 * 1024;\n",
              "\n",
              "function _uploadFiles(inputId, outputId) {\n",
              "  const steps = uploadFilesStep(inputId, outputId);\n",
              "  const outputElement = document.getElementById(outputId);\n",
              "  // Cache steps on the outputElement to make it available for the next call\n",
              "  // to uploadFilesContinue from Python.\n",
              "  outputElement.steps = steps;\n",
              "\n",
              "  return _uploadFilesContinue(outputId);\n",
              "}\n",
              "\n",
              "// This is roughly an async generator (not supported in the browser yet),\n",
              "// where there are multiple asynchronous steps and the Python side is going\n",
              "// to poll for completion of each step.\n",
              "// This uses a Promise to block the python side on completion of each step,\n",
              "// then passes the result of the previous step as the input to the next step.\n",
              "function _uploadFilesContinue(outputId) {\n",
              "  const outputElement = document.getElementById(outputId);\n",
              "  const steps = outputElement.steps;\n",
              "\n",
              "  const next = steps.next(outputElement.lastPromiseValue);\n",
              "  return Promise.resolve(next.value.promise).then((value) => {\n",
              "    // Cache the last promise value to make it available to the next\n",
              "    // step of the generator.\n",
              "    outputElement.lastPromiseValue = value;\n",
              "    return next.value.response;\n",
              "  });\n",
              "}\n",
              "\n",
              "/**\n",
              " * Generator function which is called between each async step of the upload\n",
              " * process.\n",
              " * @param {string} inputId Element ID of the input file picker element.\n",
              " * @param {string} outputId Element ID of the output display.\n",
              " * @return {!Iterable<!Object>} Iterable of next steps.\n",
              " */\n",
              "function* uploadFilesStep(inputId, outputId) {\n",
              "  const inputElement = document.getElementById(inputId);\n",
              "  inputElement.disabled = false;\n",
              "\n",
              "  const outputElement = document.getElementById(outputId);\n",
              "  outputElement.innerHTML = '';\n",
              "\n",
              "  const pickedPromise = new Promise((resolve) => {\n",
              "    inputElement.addEventListener('change', (e) => {\n",
              "      resolve(e.target.files);\n",
              "    });\n",
              "  });\n",
              "\n",
              "  const cancel = document.createElement('button');\n",
              "  inputElement.parentElement.appendChild(cancel);\n",
              "  cancel.textContent = 'Cancel upload';\n",
              "  const cancelPromise = new Promise((resolve) => {\n",
              "    cancel.onclick = () => {\n",
              "      resolve(null);\n",
              "    };\n",
              "  });\n",
              "\n",
              "  // Wait for the user to pick the files.\n",
              "  const files = yield {\n",
              "    promise: Promise.race([pickedPromise, cancelPromise]),\n",
              "    response: {\n",
              "      action: 'starting',\n",
              "    }\n",
              "  };\n",
              "\n",
              "  cancel.remove();\n",
              "\n",
              "  // Disable the input element since further picks are not allowed.\n",
              "  inputElement.disabled = true;\n",
              "\n",
              "  if (!files) {\n",
              "    return {\n",
              "      response: {\n",
              "        action: 'complete',\n",
              "      }\n",
              "    };\n",
              "  }\n",
              "\n",
              "  for (const file of files) {\n",
              "    const li = document.createElement('li');\n",
              "    li.append(span(file.name, {fontWeight: 'bold'}));\n",
              "    li.append(span(\n",
              "        `(${file.type || 'n/a'}) - ${file.size} bytes, ` +\n",
              "        `last modified: ${\n",
              "            file.lastModifiedDate ? file.lastModifiedDate.toLocaleDateString() :\n",
              "                                    'n/a'} - `));\n",
              "    const percent = span('0% done');\n",
              "    li.appendChild(percent);\n",
              "\n",
              "    outputElement.appendChild(li);\n",
              "\n",
              "    const fileDataPromise = new Promise((resolve) => {\n",
              "      const reader = new FileReader();\n",
              "      reader.onload = (e) => {\n",
              "        resolve(e.target.result);\n",
              "      };\n",
              "      reader.readAsArrayBuffer(file);\n",
              "    });\n",
              "    // Wait for the data to be ready.\n",
              "    let fileData = yield {\n",
              "      promise: fileDataPromise,\n",
              "      response: {\n",
              "        action: 'continue',\n",
              "      }\n",
              "    };\n",
              "\n",
              "    // Use a chunked sending to avoid message size limits. See b/62115660.\n",
              "    let position = 0;\n",
              "    do {\n",
              "      const length = Math.min(fileData.byteLength - position, MAX_PAYLOAD_SIZE);\n",
              "      const chunk = new Uint8Array(fileData, position, length);\n",
              "      position += length;\n",
              "\n",
              "      const base64 = btoa(String.fromCharCode.apply(null, chunk));\n",
              "      yield {\n",
              "        response: {\n",
              "          action: 'append',\n",
              "          file: file.name,\n",
              "          data: base64,\n",
              "        },\n",
              "      };\n",
              "\n",
              "      let percentDone = fileData.byteLength === 0 ?\n",
              "          100 :\n",
              "          Math.round((position / fileData.byteLength) * 100);\n",
              "      percent.textContent = `${percentDone}% done`;\n",
              "\n",
              "    } while (position < fileData.byteLength);\n",
              "  }\n",
              "\n",
              "  // All done.\n",
              "  yield {\n",
              "    response: {\n",
              "      action: 'complete',\n",
              "    }\n",
              "  };\n",
              "}\n",
              "\n",
              "scope.google = scope.google || {};\n",
              "scope.google.colab = scope.google.colab || {};\n",
              "scope.google.colab._files = {\n",
              "  _uploadFiles,\n",
              "  _uploadFilesContinue,\n",
              "};\n",
              "})(self);\n",
              "</script> "
            ],
            "text/plain": [
              "<IPython.core.display.HTML object>"
            ]
          },
          "metadata": {},
          "output_type": "display_data"
        },
        {
          "name": "stdout",
          "output_type": "stream",
          "text": [
            "Saving kaggle.json to kaggle.json\n"
          ]
        },
        {
          "data": {
            "text/plain": [
              "{'kaggle.json': b'{\"username\":\"irinachalova\",\"key\":\"410ecbba983016618177cefec768582e\"}'}"
            ]
          },
          "execution_count": 5,
          "metadata": {},
          "output_type": "execute_result"
        }
      ],
      "source": [
        "from google.colab import files\n",
        "\n",
        "files.upload()"
      ]
    },
    {
      "cell_type": "code",
      "execution_count": 6,
      "metadata": {
        "colab": {
          "base_uri": "https://localhost:8080/"
        },
        "id": "7-YSF0A1QDW3",
        "outputId": "2989d20d-0bfe-4441-b170-020d32b3e26c"
      },
      "outputs": [
        {
          "name": "stdout",
          "output_type": "stream",
          "text": [
            "patient-disease.zip: Skipping, found more recently modified local copy (use --force to force download)\n"
          ]
        }
      ],
      "source": [
        "!mkdir -p ~/.kaggle\n",
        "!mv kaggle.json ~/.kaggle/\n",
        "!chmod 600 ~/.kaggle/kaggle.json\n",
        "!kaggle datasets download -d egorovm/patient-disease"
      ]
    },
    {
      "cell_type": "code",
      "execution_count": 7,
      "metadata": {
        "colab": {
          "base_uri": "https://localhost:8080/"
        },
        "id": "Dkb7-XMhKKNX",
        "outputId": "fb7825f4-8888-4c44-90ae-866ca8fd3618"
      },
      "outputs": [
        {
          "name": "stdout",
          "output_type": "stream",
          "text": [
            "Archive:  patient-disease.zip\n",
            "replace diagnozes.csv? [y]es, [n]o, [A]ll, [N]one, [r]ename: n\n",
            "replace disease_clean_symptoms.csv? [y]es, [n]o, [A]ll, [N]one, [r]ename: "
          ]
        }
      ],
      "source": [
        "!unzip patient-disease.zip"
      ]
    },
    {
      "cell_type": "markdown",
      "metadata": {
        "id": "Dr9FcEeJL6a4"
      },
      "source": [
        "---"
      ]
    },
    {
      "cell_type": "code",
      "execution_count": 4,
      "metadata": {
        "id": "ztZfumKHK5Mv"
      },
      "outputs": [],
      "source": [
        "# MorphAnalyzer выполняет морфологический анализ русских слов. Он предоставляет возможность получать различные \n",
        "# морфологические свойства слова, такие как нормальная форма (лемма), грамматические признаки, часть речи и другие.\n",
        "morph = pymorphy2.MorphAnalyzer()"
      ]
    },
    {
      "cell_type": "code",
      "execution_count": 5,
      "metadata": {
        "colab": {
          "base_uri": "https://localhost:8080/"
        },
        "id": "aVngq6FsK5Mw",
        "outputId": "b1b5698f-5a41-44bc-e2da-9ccd4e38804f"
      },
      "outputs": [
        {
          "data": {
            "text/plain": [
              "device(type='cuda')"
            ]
          },
          "execution_count": 5,
          "metadata": {},
          "output_type": "execute_result"
        }
      ],
      "source": [
        "device = torch.device(\"cuda\") if torch.cuda.is_available() else torch.device(\"cpu\")\n",
        "device"
      ]
    },
    {
      "cell_type": "code",
      "execution_count": 6,
      "metadata": {
        "id": "yxJuqofzK5Mw"
      },
      "outputs": [],
      "source": [
        "SEED = 42\n",
        "set_seed(SEED)"
      ]
    },
    {
      "cell_type": "code",
      "execution_count": 7,
      "metadata": {
        "colab": {
          "base_uri": "https://localhost:8080/"
        },
        "id": "3BlPoRCJK5Mw",
        "outputId": "42de28b0-e0e8-4877-b776-e772f285b02a"
      },
      "outputs": [
        {
          "name": "stderr",
          "output_type": "stream",
          "text": [
            "[nltk_data] Downloading package punkt to /root/nltk_data...\n",
            "[nltk_data]   Package punkt is already up-to-date!\n",
            "[nltk_data] Downloading package stopwords to /root/nltk_data...\n",
            "[nltk_data]   Package stopwords is already up-to-date!\n"
          ]
        }
      ],
      "source": [
        "nltk.download('punkt')\n",
        "nltk.download('stopwords')\n",
        "RUSSIAN_STOPWORDS = set(stopwords.words(\"russian\"))"
      ]
    },
    {
      "cell_type": "code",
      "execution_count": 8,
      "metadata": {
        "id": "gkWOLR8SNYbN"
      },
      "outputs": [],
      "source": [
        "# Создание директории с результатом работы модели\n",
        "def create_result_directory(result_path='/content/result'):\n",
        "    result_path = '/content/result'\n",
        "    logging_path = result_path + '/logging'\n",
        "    if not os.path.exists(result_path):\n",
        "        os.makedirs(result_path)\n",
        "        os.makedirs(logging_path)\n",
        "        print('Директории успешно созданы.')\n",
        "    else:\n",
        "        print('Произошла ошибка при создании директорий.')"
      ]
    },
    {
      "cell_type": "code",
      "execution_count": 9,
      "metadata": {
        "id": "vHaPxvi2K5Mw"
      },
      "outputs": [],
      "source": [
        "# Чистка текста от лишних символов\n",
        "def clean_text(text: str) -> str:\n",
        "    # Удаление тегов HTML\n",
        "    text = re.sub(r'<[^>]*>', '', text)\n",
        "    # Удаление тегов в начале абзаца\n",
        "    text = re.sub(r'[\\n\\t\\br\\b]', '', text)\n",
        "    # Добавление пробелов после символов\n",
        "    text = re.sub(r'([,.:?])([^\\s])', r'\\1 \\2', text)\n",
        "    # Разделение предложения, если в слове содержится одна заглавная буква\n",
        "    text = re.sub(r'(?<=[a-zа-яё])\\s*(?=[A-ZА-ЯЁ])', '. ', text)\n",
        "    text = re.sub(r'(?<=\\S)-(?=\\s|$)', ' -', text)\n",
        "    # Добавление пространства между числом и значением (15мм в 15 мм)\n",
        "    text = re.sub(r'(?<=\\d)(?=\\D)|(?<=\\D)(?=\\d)', ' ', text)\n",
        "    # Удаление двух пробелов\n",
        "    text = re.sub(r'\\s+', ' ', text)\n",
        "    # Удаление пробела в конце\n",
        "    text = text.rstrip()\n",
        "    return text\n",
        "\n",
        "\n",
        "# Удаление записей о прикрепленных файлах\n",
        "def truncate_string(text: str) -> str:\n",
        "    keyword = 'Прикрепленные файлы'\n",
        "    if keyword in text:\n",
        "        sentences = text.split('.')\n",
        "        for i, s in enumerate(sentences):\n",
        "            if keyword in s:\n",
        "                return '.'.join(sentences[:i])\n",
        "    return text\n",
        "\n",
        "\n",
        "# Приведение слов к нормальной форме\n",
        "@lru_cache(maxsize=None) \n",
        "def norm_form_cached(word: str):\n",
        "    return morph.parse(word)[0].normal_form\n",
        "\n",
        "\n",
        "# Очищает текст от стоп-слов в русском языке\n",
        "def stop_words_detection(text: str) -> str:\n",
        "    russian_stopwords = RUSSIAN_STOPWORDS\n",
        "    text_tokens = nltk.word_tokenize(text)\n",
        "    cleaned_text = ' '.join(token.strip() for token in text_tokens\n",
        "                            if token not in russian_stopwords)\n",
        "    return cleaned_text\n",
        "\n",
        "\n",
        "# Обработка текстов обращений\n",
        "tqdm.pandas()\n",
        "def preprocess_case(patient_case: pd.DataFrame) -> pd.Series:\n",
        "    patient_case.case = (\n",
        "        patient_case.case\n",
        "        .progress_apply(lambda text: clean_text(text))\n",
        "        .apply(lambda text: truncate_string(text))\n",
        "        .progress_apply(lambda text: stop_words_detection(text))\n",
        "        .progress_apply(lambda text: ' '.join([norm_form_cached(word) for word in text.split()]))\n",
        "    ) \n",
        "    return patient_case.case"
      ]
    },
    {
      "cell_type": "code",
      "execution_count": 10,
      "metadata": {
        "id": "Ll7n6ivGK5M8"
      },
      "outputs": [],
      "source": [
        "# Токенизация\n",
        "def process_data(example: Dataset, tokenizer, max_length: int) -> Dataset:\n",
        "    result = tokenizer(\n",
        "                        example['case'],\n",
        "                        truncation=True,\n",
        "                        return_token_type_ids=True,\n",
        "                        max_length=max_length,\n",
        "                        padding=True,\n",
        "                        return_tensors='pt'\n",
        "                      )\n",
        "    result['labels'] = example['name']\n",
        "    return result"
      ]
    },
    {
      "cell_type": "code",
      "execution_count": 11,
      "metadata": {
        "id": "i3Rwoh8k6BLq"
      },
      "outputs": [],
      "source": [
        "# Генерация фейковых данных\n",
        "def oversampling_data(df: pd.DataFrame, text_column: str, class_column: List, \n",
        "                      target_classes: List, \n",
        "                      num_samples: int, min_text_length=3) -> pd.DataFrame:\n",
        "    generated_data = []\n",
        "\n",
        "    for target_class in target_classes:\n",
        "        df_class = df[df[class_column] == target_class]\n",
        "        df_filtered = df_class[df_class[text_column].str.len() >= min_text_length]\n",
        "\n",
        "        # Объединяем все тексты в одну строку для обучения модели\n",
        "        combined_text = ' '.join(df_filtered[text_column].tolist())\n",
        "\n",
        "        # Создаем модель на основе цепей Маркова\n",
        "        text_model = markovify.Text(combined_text, state_size=2)\n",
        "        generated_samples = [text_model.make_sentence() for _ in range(num_samples)]\n",
        "        df_generated = pd.DataFrame({text_column: generated_samples,\n",
        "                                     class_column: target_class})\n",
        "        generated_data.append(df_generated)\n",
        "\n",
        "    df_combined = pd.concat([df] + generated_data)\n",
        "    return df_combined\n",
        "\n",
        "# Урезание данных\n",
        "def undersampling_data(df: pd.DataFrame, sample=200) -> pd.DataFrame:\n",
        "    class_counts = df['name'].value_counts()\n",
        "    df_undersampled = pd.DataFrame()\n",
        "\n",
        "    for class_label, count in class_counts.items():\n",
        "        df_class = df[df['name'] == class_label]\n",
        "        if count > 200:\n",
        "            df_class = df_class.sample(n=sample, random_state=SEED)\n",
        "        df_undersampled = pd.concat([df_undersampled, df_class])\n",
        "    return df_undersampled\n",
        "\n",
        "\n",
        "# Функция для устранения дисбаланса классов\n",
        "def sampling(df: pd.DataFrame, num_labels: int):\n",
        "    classes_to_oversample = df['name'].value_counts().nsmallest(num_labels//2).index.tolist()\n",
        "    classes_to_undersample = df['name'].value_counts().nlargest(num_labels//2).index.tolist()\n",
        "\n",
        "    # Разделение DataFrame на две части в соответствии с выбранными классами\n",
        "    df_oversample = df[df['name'].isin(classes_to_oversample)]\n",
        "    df_undersample = df[df['name'].isin(classes_to_undersample)]\n",
        "\n",
        "    target_classes = df_oversample.name.unique().tolist()\n",
        "    code_classes = df_oversample.name.unique().tolist()\n",
        "\n",
        "    df_oversample = oversampling_data(df=df_oversample, text_column='case', \n",
        "                                      class_column='name',\n",
        "                                      target_classes=target_classes, \n",
        "                                      num_samples=200)\n",
        "    \n",
        "    df_undersample = undersampling_data(df=df_undersample, sample=200)\n",
        "    return df_oversample, df_undersample"
      ]
    },
    {
      "cell_type": "code",
      "execution_count": 12,
      "metadata": {
        "id": "c7cfLeGgK5M9"
      },
      "outputs": [],
      "source": [
        "# Получение предсказаний\n",
        "def get_per_instance_preds(flattened_preds):\n",
        "    true_probs = softmax(flattened_preds, axis=1)\n",
        "    return np.argmax(true_probs, axis=1)\n",
        "\n",
        "# Расчет метрики\n",
        "def compute_metrics(p: EvalPrediction, **kwargs):\n",
        "    preds = p.predictions\n",
        "    per_instance_preds = get_per_instance_preds(preds)\n",
        "    label_ids = p.label_ids #.reshape((per_instance_preds.shape[0], 2)).argmax(axis=1)  # [0, 1] -> 1, [1, 0] -> 0\n",
        "\n",
        "    # f1_macro = F1.compute(predictions=per_instance_preds, references=label_ids, average='macro')\n",
        "    f1_weighted = F1.compute(predictions=per_instance_preds, references=label_ids, average='weighted')\n",
        "    result = {'eval_f1': f1_weighted['f1']}\n",
        "    return result"
      ]
    },
    {
      "cell_type": "code",
      "execution_count": 13,
      "metadata": {
        "id": "ZjuDRdOBQx2m"
      },
      "outputs": [],
      "source": [
        "# Обработка полученных предсказаний\n",
        "def process_predictions(p: np.ndarray, label_encoder, **kwargs):\n",
        "    true_probs = softmax(p, axis=1)\n",
        "    preds_list = np.argmax(true_probs, axis=1).tolist()\n",
        "    preds_list = label_encoder.inverse_transform(preds_list).tolist()\n",
        "    preds_list = [{'idx': idx, 'name': prediction}\n",
        "                  for idx, prediction in enumerate(preds_list)]\n",
        "    return preds_list"
      ]
    },
    {
      "cell_type": "markdown",
      "metadata": {
        "id": "l4fvdHSSK5Mx"
      },
      "source": [
        "### Загрузка данных"
      ]
    },
    {
      "cell_type": "code",
      "execution_count": 18,
      "metadata": {
        "id": "Pwq4ZKRUK5Mx"
      },
      "outputs": [],
      "source": [
        "# !kaggle datasets download -d egorovm/patient-disease\n",
        "# !unzip patient-disease.zip"
      ]
    },
    {
      "cell_type": "markdown",
      "metadata": {
        "id": "bwDbHCvTK5My"
      },
      "source": [
        "### Предобработка данных"
      ]
    },
    {
      "cell_type": "code",
      "execution_count": 14,
      "metadata": {
        "id": "6fUzCL4zMDnO"
      },
      "outputs": [],
      "source": [
        "# Путь в Windows\n",
        "# DATA_PATH = r'C:\\Users\\Пользователь\\Documents\\Учеба\\Диплом\\Практика\\BERT_classification\\data\\patient_case.csv' \n",
        "# Путь в Colab\n",
        "DATA_PATH = '/content/patient_case.csv'"
      ]
    },
    {
      "cell_type": "code",
      "execution_count": 15,
      "metadata": {
        "colab": {
          "base_uri": "https://localhost:8080/"
        },
        "id": "7zauwGrsK5My",
        "outputId": "00c64efe-1ea2-4613-df0d-4fa96df9e528"
      },
      "outputs": [
        {
          "data": {
            "text/plain": [
              "id                       36466e53a1a344b182569b638e9b3a21\n",
              "name                                    Гастроэнтерология\n",
              "case    <div class=\"postcolor\" id=\"post-21951\">\\n\\t\\t\\...\n",
              "url     https://meduniver.com/forum/index.php?s=63007a...\n",
              "Name: 743, dtype: object"
            ]
          },
          "execution_count": 15,
          "metadata": {},
          "output_type": "execute_result"
        }
      ],
      "source": [
        "dataset = pd.read_csv(DATA_PATH)\n",
        "dataset.iloc[743]"
      ]
    },
    {
      "cell_type": "code",
      "execution_count": 66,
      "metadata": {
        "colab": {
          "base_uri": "https://localhost:8080/"
        },
        "id": "bHOIByOrK5My",
        "outputId": "5eac3b83-e647-457f-c6e5-75c225c6e313"
      },
      "outputs": [
        {
          "data": {
            "text/plain": [
              "False"
            ]
          },
          "execution_count": 66,
          "metadata": {},
          "output_type": "execute_result"
        }
      ],
      "source": [
        "dataset.duplicated().any()"
      ]
    },
    {
      "cell_type": "code",
      "execution_count": 22,
      "metadata": {
        "colab": {
          "base_uri": "https://localhost:8080/"
        },
        "id": "_04MPZ_MK5My",
        "outputId": "10dad89f-bf80-4cdf-badb-911c9898b152"
      },
      "outputs": [
        {
          "data": {
            "text/plain": [
              "id      False\n",
              "name    False\n",
              "case     True\n",
              "url     False\n",
              "dtype: bool"
            ]
          },
          "execution_count": 22,
          "metadata": {},
          "output_type": "execute_result"
        }
      ],
      "source": [
        "dataset.isna().any()"
      ]
    },
    {
      "cell_type": "code",
      "execution_count": 16,
      "metadata": {
        "colab": {
          "base_uri": "https://localhost:8080/"
        },
        "id": "1iPgaif3K5Mz",
        "outputId": "6aa48710-ee3c-4fc6-8e85-c77a08974b77"
      },
      "outputs": [
        {
          "data": {
            "text/plain": [
              "id      False\n",
              "name    False\n",
              "case    False\n",
              "url     False\n",
              "dtype: bool"
            ]
          },
          "execution_count": 16,
          "metadata": {},
          "output_type": "execute_result"
        }
      ],
      "source": [
        "dataset = dataset.loc[dataset.case.notna()]\n",
        "dataset.isna().any()"
      ]
    },
    {
      "cell_type": "code",
      "execution_count": 68,
      "metadata": {
        "colab": {
          "base_uri": "https://localhost:8080/"
        },
        "id": "KAtyM6dXK5Mz",
        "outputId": "02271b7d-b472-46ac-9954-17d0e1719552"
      },
      "outputs": [
        {
          "data": {
            "text/plain": [
              "id      5193\n",
              "name      25\n",
              "case    5164\n",
              "url     5164\n",
              "dtype: int64"
            ]
          },
          "execution_count": 68,
          "metadata": {},
          "output_type": "execute_result"
        }
      ],
      "source": [
        "dataset.nunique()"
      ]
    },
    {
      "cell_type": "code",
      "execution_count": 69,
      "metadata": {
        "colab": {
          "base_uri": "https://localhost:8080/"
        },
        "id": "Ds1vq2ndK5Mz",
        "outputId": "f43ab387-a366-4aa7-8f70-35826bcd73e4"
      },
      "outputs": [
        {
          "data": {
            "text/plain": [
              "(5193, 4)"
            ]
          },
          "execution_count": 69,
          "metadata": {},
          "output_type": "execute_result"
        }
      ],
      "source": [
        "dataset.shape"
      ]
    },
    {
      "cell_type": "code",
      "execution_count": 70,
      "metadata": {
        "colab": {
          "base_uri": "https://localhost:8080/",
          "height": 687
        },
        "id": "KPsMv1seK5M0",
        "outputId": "e6106634-9175-4a7f-f08c-3ff078fabab2"
      },
      "outputs": [
        {
          "data": {
            "text/plain": [
              "<Axes: >"
            ]
          },
          "execution_count": 70,
          "metadata": {},
          "output_type": "execute_result"
        },
        {
          "data": {
            "image/png": "[encoded data removed]",
            "text/plain": [
              "<Figure size 640x480 with 1 Axes>"
            ]
          },
          "metadata": {},
          "output_type": "display_data"
        }
      ],
      "source": [
        "dataset.name.value_counts().plot(kind='bar')"
      ]
    },
    {
      "cell_type": "markdown",
      "metadata": {
        "id": "JmiBxQaDK5Mz"
      },
      "source": [
        "В данных есть дубликаты, обусловленные двойной классификацией на обращение. В целом, эти данные можно удалить или присвоить им только один из имеющихся классов. Выберем второй вариант, поскольку данных не очень много."
      ]
    },
    {
      "cell_type": "code",
      "execution_count": 17,
      "metadata": {
        "colab": {
          "base_uri": "https://localhost:8080/"
        },
        "id": "npbz-lG2K5Mz",
        "outputId": "62f73a22-45b7-46d9-fddf-353f9fb5e590"
      },
      "outputs": [
        {
          "data": {
            "text/plain": [
              "(5165, 4)"
            ]
          },
          "execution_count": 17,
          "metadata": {},
          "output_type": "execute_result"
        }
      ],
      "source": [
        "urls = dataset.loc[dataset['url'].duplicated(), 'url']\n",
        "condition = dataset['name'] != 'Остальные разделы медицины'\n",
        "filtered_dataset = dataset[~dataset['url'].isin(urls) | condition]\n",
        "\n",
        "filtered_dataset.shape"
      ]
    },
    {
      "cell_type": "code",
      "execution_count": 72,
      "metadata": {
        "colab": {
          "base_uri": "https://localhost:8080/"
        },
        "id": "L-gGP0D2K5Mz",
        "outputId": "a32a2d85-c688-4b8a-ea7c-621e76a9a1da"
      },
      "outputs": [
        {
          "data": {
            "text/plain": [
              "id      5165\n",
              "name      25\n",
              "case    5164\n",
              "url     5164\n",
              "dtype: int64"
            ]
          },
          "execution_count": 72,
          "metadata": {},
          "output_type": "execute_result"
        }
      ],
      "source": [
        "filtered_dataset.nunique()"
      ]
    },
    {
      "cell_type": "code",
      "execution_count": 18,
      "metadata": {
        "colab": {
          "base_uri": "https://localhost:8080/"
        },
        "id": "zR82xfKJzVoj",
        "outputId": "441da725-b98c-4193-e7c2-cb3a02ebaefa"
      },
      "outputs": [
        {
          "name": "stderr",
          "output_type": "stream",
          "text": [
            "<ipython-input-18-87bb6017e5fa>:1: SettingWithCopyWarning: \n",
            "A value is trying to be set on a copy of a slice from a DataFrame\n",
            "\n",
            "See the caveats in the documentation: https://pandas.pydata.org/pandas-docs/stable/user_guide/indexing.html#returning-a-view-versus-a-copy\n",
            "  filtered_dataset.drop(['id', 'url'], axis=1, inplace=True)\n"
          ]
        }
      ],
      "source": [
        "filtered_dataset.drop(['id', 'url'], axis=1, inplace=True)"
      ]
    },
    {
      "cell_type": "code",
      "execution_count": 30,
      "metadata": {
        "colab": {
          "base_uri": "https://localhost:8080/",
          "height": 143
        },
        "id": "VDHuKu0By-3_",
        "outputId": "5d83eb5a-0b96-4dc1-8639-0d6d690a2b05"
      },
      "outputs": [
        {
          "data": {
            "text/html": [
              "\n",
              "  <div id=\"df-a9b0691d-f502-4d53-8eef-69a5bd4f3117\">\n",
              "    <div class=\"colab-df-container\">\n",
              "      <div>\n",
              "<style scoped>\n",
              "    .dataframe tbody tr th:only-of-type {\n",
              "        vertical-align: middle;\n",
              "    }\n",
              "\n",
              "    .dataframe tbody tr th {\n",
              "        vertical-align: top;\n",
              "    }\n",
              "\n",
              "    .dataframe thead th {\n",
              "        text-align: right;\n",
              "    }\n",
              "</style>\n",
              "<table border=\"1\" class=\"dataframe\">\n",
              "  <thead>\n",
              "    <tr style=\"text-align: right;\">\n",
              "      <th></th>\n",
              "      <th>name</th>\n",
              "      <th>case</th>\n",
              "    </tr>\n",
              "  </thead>\n",
              "  <tbody>\n",
              "    <tr>\n",
              "      <th>0</th>\n",
              "      <td>Акушерство - Беременность-Роды</td>\n",
              "      <td>&lt;div class=\"postcolor\" id=\"post-40777\"&gt;\\n\\t\\t\\...</td>\n",
              "    </tr>\n",
              "    <tr>\n",
              "      <th>1</th>\n",
              "      <td>Акушерство - Беременность-Роды</td>\n",
              "      <td>&lt;div class=\"postcolor\" id=\"post-40637\"&gt;\\n\\t\\t\\...</td>\n",
              "    </tr>\n",
              "    <tr>\n",
              "      <th>2</th>\n",
              "      <td>Акушерство - Беременность-Роды</td>\n",
              "      <td>&lt;div class=\"postcolor\" id=\"post-40361\"&gt;\\n\\t\\t\\...</td>\n",
              "    </tr>\n",
              "  </tbody>\n",
              "</table>\n",
              "</div>\n",
              "      <button class=\"colab-df-convert\" onclick=\"convertToInteractive('df-a9b0691d-f502-4d53-8eef-69a5bd4f3117')\"\n",
              "              title=\"Convert this dataframe to an interactive table.\"\n",
              "              style=\"display:none;\">\n",
              "        \n",
              "  <svg xmlns=\"http://www.w3.org/2000/svg\" height=\"24px\"viewBox=\"0 0 24 24\"\n",
              "       width=\"24px\">\n",
              "    <path d=\"M0 0h24v24H0V0z\" fill=\"none\"/>\n",
              "    <path d=\"M18.56 5.44l.94 2.06.94-2.06 2.06-.94-2.06-.94-.94-2.06-.94 2.06-2.06.94zm-11 1L8.5 8.5l.94-2.06 2.06-.94-2.06-.94L8.5 2.5l-.94 2.06-2.06.94zm10 10l.94 2.06.94-2.06 2.06-.94-2.06-.94-.94-2.06-.94 2.06-2.06.94z\"/><path d=\"M17.41 7.96l-1.37-1.37c-.4-.4-.92-.59-1.43-.59-.52 0-1.04.2-1.43.59L10.3 9.45l-7.72 7.72c-.78.78-.78 2.05 0 2.83L4 21.41c.39.39.9.59 1.41.59.51 0 1.02-.2 1.41-.59l7.78-7.78 2.81-2.81c.8-.78.8-2.07 0-2.86zM5.41 20L4 18.59l7.72-7.72 1.47 1.35L5.41 20z\"/>\n",
              "  </svg>\n",
              "      </button>\n",
              "      \n",
              "  <style>\n",
              "    .colab-df-container {\n",
              "      display:flex;\n",
              "      flex-wrap:wrap;\n",
              "      gap: 12px;\n",
              "    }\n",
              "\n",
              "    .colab-df-convert {\n",
              "      background-color: #E8F0FE;\n",
              "      border: none;\n",
              "      border-radius: 50%;\n",
              "      cursor: pointer;\n",
              "      display: none;\n",
              "      fill: #1967D2;\n",
              "      height: 32px;\n",
              "      padding: 0 0 0 0;\n",
              "      width: 32px;\n",
              "    }\n",
              "\n",
              "    .colab-df-convert:hover {\n",
              "      background-color: #E2EBFA;\n",
              "      box-shadow: 0px 1px 2px rgba(60, 64, 67, 0.3), 0px 1px 3px 1px rgba(60, 64, 67, 0.15);\n",
              "      fill: #174EA6;\n",
              "    }\n",
              "\n",
              "    [theme=dark] .colab-df-convert {\n",
              "      background-color: #3B4455;\n",
              "      fill: #D2E3FC;\n",
              "    }\n",
              "\n",
              "    [theme=dark] .colab-df-convert:hover {\n",
              "      background-color: #434B5C;\n",
              "      box-shadow: 0px 1px 3px 1px rgba(0, 0, 0, 0.15);\n",
              "      filter: drop-shadow(0px 1px 2px rgba(0, 0, 0, 0.3));\n",
              "      fill: #FFFFFF;\n",
              "    }\n",
              "  </style>\n",
              "\n",
              "      <script>\n",
              "        const buttonEl =\n",
              "          document.querySelector('#df-a9b0691d-f502-4d53-8eef-69a5bd4f3117 button.colab-df-convert');\n",
              "        buttonEl.style.display =\n",
              "          google.colab.kernel.accessAllowed ? 'block' : 'none';\n",
              "\n",
              "        async function convertToInteractive(key) {\n",
              "          const element = document.querySelector('#df-a9b0691d-f502-4d53-8eef-69a5bd4f3117');\n",
              "          const dataTable =\n",
              "            await google.colab.kernel.invokeFunction('convertToInteractive',\n",
              "                                                     [key], {});\n",
              "          if (!dataTable) return;\n",
              "\n",
              "          const docLinkHtml = 'Like what you see? Visit the ' +\n",
              "            '<a target=\"_blank\" href=https://colab.research.google.com/notebooks/data_table.ipynb>data table notebook</a>'\n",
              "            + ' to learn more about interactive tables.';\n",
              "          element.innerHTML = '';\n",
              "          dataTable['output_type'] = 'display_data';\n",
              "          await google.colab.output.renderOutput(dataTable, element);\n",
              "          const docLink = document.createElement('div');\n",
              "          docLink.innerHTML = docLinkHtml;\n",
              "          element.appendChild(docLink);\n",
              "        }\n",
              "      </script>\n",
              "    </div>\n",
              "  </div>\n",
              "  "
            ],
            "text/plain": [
              "                             name  \\\n",
              "0  Акушерство - Беременность-Роды   \n",
              "1  Акушерство - Беременность-Роды   \n",
              "2  Акушерство - Беременность-Роды   \n",
              "\n",
              "                                                case  \n",
              "0  <div class=\"postcolor\" id=\"post-40777\">\\n\\t\\t\\...  \n",
              "1  <div class=\"postcolor\" id=\"post-40637\">\\n\\t\\t\\...  \n",
              "2  <div class=\"postcolor\" id=\"post-40361\">\\n\\t\\t\\...  "
            ]
          },
          "execution_count": 30,
          "metadata": {},
          "output_type": "execute_result"
        }
      ],
      "source": [
        "filtered_dataset.head(3)"
      ]
    },
    {
      "cell_type": "code",
      "execution_count": 19,
      "metadata": {
        "id": "cWr-0if7BccC"
      },
      "outputs": [],
      "source": [
        "# Количество меток\n",
        "num_labels = filtered_dataset.name.nunique()\n",
        "# Борьба с дисбалансом классов\n",
        "df_oversample, df_undersample = sampling(filtered_dataset, num_labels)"
      ]
    },
    {
      "cell_type": "code",
      "execution_count": 20,
      "metadata": {
        "colab": {
          "base_uri": "https://localhost:8080/"
        },
        "id": "z-l7FzxLCdPR",
        "outputId": "f97c9003-6be8-4079-b775-b25541d576f8"
      },
      "outputs": [
        {
          "data": {
            "text/plain": [
              "Урология                           287\n",
              "Оториноларингология                238\n",
              "Психология - психотерапия          195\n",
              "Онкология и маммология             161\n",
              "Офтальмология                      112\n",
              "Педиатрия                           98\n",
              "Проктология                         92\n",
              "Стоматология                        56\n",
              "Диетология                          49\n",
              "Анестезиология - Реаниматология     29\n",
              "Наркология                          12\n",
              "Пульмонология                        8\n",
              "Name: name, dtype: int64"
            ]
          },
          "execution_count": 20,
          "metadata": {},
          "output_type": "execute_result"
        }
      ],
      "source": [
        "df_oversample.dropna(inplace=True)\n",
        "df_oversample.drop_duplicates(inplace=True)\n",
        "df_oversample.name.value_counts()"
      ]
    },
    {
      "cell_type": "code",
      "execution_count": 21,
      "metadata": {
        "colab": {
          "base_uri": "https://localhost:8080/"
        },
        "id": "PzjKJ5VjDxvg",
        "outputId": "e87d28f8-c60f-4f99-d274-8fce162b0ec9"
      },
      "outputs": [
        {
          "data": {
            "text/plain": [
              "Дерматология и венерология        200\n",
              "Гастроэнтерология                 200\n",
              "Неврология                        200\n",
              "Инфекционные болезни              200\n",
              "Травматология                     200\n",
              "Кардиология                       200\n",
              "Хирургия                          200\n",
              "Гинекология                       200\n",
              "Остальные разделы медицины        200\n",
              "Терапия                           200\n",
              "Акушерство - Беременность-Роды    200\n",
              "Аллергология - Иммунология        200\n",
              "Name: name, dtype: int64"
            ]
          },
          "execution_count": 21,
          "metadata": {},
          "output_type": "execute_result"
        }
      ],
      "source": [
        "df_undersample.name.value_counts()"
      ]
    },
    {
      "cell_type": "code",
      "execution_count": 22,
      "metadata": {
        "colab": {
          "base_uri": "https://localhost:8080/",
          "height": 247
        },
        "id": "uVWuuZlzEAVm",
        "outputId": "aea04ff1-cf61-411b-95e4-953d543e5879"
      },
      "outputs": [
        {
          "name": "stderr",
          "output_type": "stream",
          "text": [
            "<ipython-input-22-dee13439373d>:8: SettingWithCopyWarning: \n",
            "A value is trying to be set on a copy of a slice from a DataFrame.\n",
            "Try using .loc[row_indexer,col_indexer] = value instead\n",
            "\n",
            "See the caveats in the documentation: https://pandas.pydata.org/pandas-docs/stable/user_guide/indexing.html#returning-a-view-versus-a-copy\n",
            "  part_df.name = 'Остальные разделы медицины'\n"
          ]
        },
        {
          "data": {
            "text/html": [
              "\n",
              "  <div id=\"df-b20722c1-1282-4d59-88c7-5594e12c61f2\">\n",
              "    <div class=\"colab-df-container\">\n",
              "      <div>\n",
              "<style scoped>\n",
              "    .dataframe tbody tr th:only-of-type {\n",
              "        vertical-align: middle;\n",
              "    }\n",
              "\n",
              "    .dataframe tbody tr th {\n",
              "        vertical-align: top;\n",
              "    }\n",
              "\n",
              "    .dataframe thead th {\n",
              "        text-align: right;\n",
              "    }\n",
              "</style>\n",
              "<table border=\"1\" class=\"dataframe\">\n",
              "  <thead>\n",
              "    <tr style=\"text-align: right;\">\n",
              "      <th></th>\n",
              "      <th>name</th>\n",
              "      <th>case</th>\n",
              "    </tr>\n",
              "  </thead>\n",
              "  <tbody>\n",
              "    <tr>\n",
              "      <th>443</th>\n",
              "      <td>Остальные разделы медицины</td>\n",
              "      <td>&lt;div class=\"postcolor\" id=\"post-36289\"&gt;\\n\\t\\t\\...</td>\n",
              "    </tr>\n",
              "    <tr>\n",
              "      <th>444</th>\n",
              "      <td>Остальные разделы медицины</td>\n",
              "      <td>&lt;div class=\"postcolor\" id=\"post-34886\"&gt;\\n\\t\\t\\...</td>\n",
              "    </tr>\n",
              "    <tr>\n",
              "      <th>445</th>\n",
              "      <td>Остальные разделы медицины</td>\n",
              "      <td>&lt;div class=\"postcolor\" id=\"post-25472\"&gt;\\n\\t\\t\\...</td>\n",
              "    </tr>\n",
              "  </tbody>\n",
              "</table>\n",
              "</div>\n",
              "      <button class=\"colab-df-convert\" onclick=\"convertToInteractive('df-b20722c1-1282-4d59-88c7-5594e12c61f2')\"\n",
              "              title=\"Convert this dataframe to an interactive table.\"\n",
              "              style=\"display:none;\">\n",
              "        \n",
              "  <svg xmlns=\"http://www.w3.org/2000/svg\" height=\"24px\"viewBox=\"0 0 24 24\"\n",
              "       width=\"24px\">\n",
              "    <path d=\"M0 0h24v24H0V0z\" fill=\"none\"/>\n",
              "    <path d=\"M18.56 5.44l.94 2.06.94-2.06 2.06-.94-2.06-.94-.94-2.06-.94 2.06-2.06.94zm-11 1L8.5 8.5l.94-2.06 2.06-.94-2.06-.94L8.5 2.5l-.94 2.06-2.06.94zm10 10l.94 2.06.94-2.06 2.06-.94-2.06-.94-.94-2.06-.94 2.06-2.06.94z\"/><path d=\"M17.41 7.96l-1.37-1.37c-.4-.4-.92-.59-1.43-.59-.52 0-1.04.2-1.43.59L10.3 9.45l-7.72 7.72c-.78.78-.78 2.05 0 2.83L4 21.41c.39.39.9.59 1.41.59.51 0 1.02-.2 1.41-.59l7.78-7.78 2.81-2.81c.8-.78.8-2.07 0-2.86zM5.41 20L4 18.59l7.72-7.72 1.47 1.35L5.41 20z\"/>\n",
              "  </svg>\n",
              "      </button>\n",
              "      \n",
              "  <style>\n",
              "    .colab-df-container {\n",
              "      display:flex;\n",
              "      flex-wrap:wrap;\n",
              "      gap: 12px;\n",
              "    }\n",
              "\n",
              "    .colab-df-convert {\n",
              "      background-color: #E8F0FE;\n",
              "      border: none;\n",
              "      border-radius: 50%;\n",
              "      cursor: pointer;\n",
              "      display: none;\n",
              "      fill: #1967D2;\n",
              "      height: 32px;\n",
              "      padding: 0 0 0 0;\n",
              "      width: 32px;\n",
              "    }\n",
              "\n",
              "    .colab-df-convert:hover {\n",
              "      background-color: #E2EBFA;\n",
              "      box-shadow: 0px 1px 2px rgba(60, 64, 67, 0.3), 0px 1px 3px 1px rgba(60, 64, 67, 0.15);\n",
              "      fill: #174EA6;\n",
              "    }\n",
              "\n",
              "    [theme=dark] .colab-df-convert {\n",
              "      background-color: #3B4455;\n",
              "      fill: #D2E3FC;\n",
              "    }\n",
              "\n",
              "    [theme=dark] .colab-df-convert:hover {\n",
              "      background-color: #434B5C;\n",
              "      box-shadow: 0px 1px 3px 1px rgba(0, 0, 0, 0.15);\n",
              "      filter: drop-shadow(0px 1px 2px rgba(0, 0, 0, 0.3));\n",
              "      fill: #FFFFFF;\n",
              "    }\n",
              "  </style>\n",
              "\n",
              "      <script>\n",
              "        const buttonEl =\n",
              "          document.querySelector('#df-b20722c1-1282-4d59-88c7-5594e12c61f2 button.colab-df-convert');\n",
              "        buttonEl.style.display =\n",
              "          google.colab.kernel.accessAllowed ? 'block' : 'none';\n",
              "\n",
              "        async function convertToInteractive(key) {\n",
              "          const element = document.querySelector('#df-b20722c1-1282-4d59-88c7-5594e12c61f2');\n",
              "          const dataTable =\n",
              "            await google.colab.kernel.invokeFunction('convertToInteractive',\n",
              "                                                     [key], {});\n",
              "          if (!dataTable) return;\n",
              "\n",
              "          const docLinkHtml = 'Like what you see? Visit the ' +\n",
              "            '<a target=\"_blank\" href=https://colab.research.google.com/notebooks/data_table.ipynb>data table notebook</a>'\n",
              "            + ' to learn more about interactive tables.';\n",
              "          element.innerHTML = '';\n",
              "          dataTable['output_type'] = 'display_data';\n",
              "          await google.colab.output.renderOutput(dataTable, element);\n",
              "          const docLink = document.createElement('div');\n",
              "          docLink.innerHTML = docLinkHtml;\n",
              "          element.appendChild(docLink);\n",
              "        }\n",
              "      </script>\n",
              "    </div>\n",
              "  </div>\n",
              "  "
            ],
            "text/plain": [
              "                           name  \\\n",
              "443  Остальные разделы медицины   \n",
              "444  Остальные разделы медицины   \n",
              "445  Остальные разделы медицины   \n",
              "\n",
              "                                                  case  \n",
              "443  <div class=\"postcolor\" id=\"post-36289\">\\n\\t\\t\\...  \n",
              "444  <div class=\"postcolor\" id=\"post-34886\">\\n\\t\\t\\...  \n",
              "445  <div class=\"postcolor\" id=\"post-25472\">\\n\\t\\t\\...  "
            ]
          },
          "execution_count": 22,
          "metadata": {},
          "output_type": "execute_result"
        }
      ],
      "source": [
        "part_df = df_oversample.loc[df_oversample.name.isin([\n",
        "    'Анестезиология - Реаниматология',\n",
        "    'Наркология', 'Пульмонология',\n",
        "    'Диетология', 'Стоматология', 'Проктология'])]\n",
        "\n",
        "df_oversample = df_oversample.query(\"name not in ['Анестезиология - Реаниматология', 'Наркология', 'Пульмонология', 'Диетология', 'Стоматология', 'Проктология']\")\n",
        "\n",
        "part_df.name = 'Остальные разделы медицины'\n",
        "part_df.head(3)"
      ]
    },
    {
      "cell_type": "code",
      "execution_count": 77,
      "metadata": {
        "colab": {
          "base_uri": "https://localhost:8080/"
        },
        "id": "hgnucQzZGYOj",
        "outputId": "f407d7ca-cd18-4a0f-87e2-c3857d69390f"
      },
      "outputs": [
        {
          "data": {
            "text/plain": [
              "Урология                     287\n",
              "Оториноларингология          238\n",
              "Психология - психотерапия    195\n",
              "Онкология и маммология       161\n",
              "Офтальмология                112\n",
              "Педиатрия                     98\n",
              "Name: name, dtype: int64"
            ]
          },
          "execution_count": 77,
          "metadata": {},
          "output_type": "execute_result"
        }
      ],
      "source": [
        "df_oversample.name.value_counts()"
      ]
    },
    {
      "cell_type": "code",
      "execution_count": 23,
      "metadata": {
        "colab": {
          "base_uri": "https://localhost:8080/"
        },
        "id": "BiWApTHFD19p",
        "outputId": "346793ec-6338-457a-a8cc-2d7bab903abb"
      },
      "outputs": [
        {
          "data": {
            "text/plain": [
              "Остальные разделы медицины        446\n",
              "Урология                          287\n",
              "Оториноларингология               238\n",
              "Травматология                     200\n",
              "Акушерство - Беременность-Роды    200\n",
              "Терапия                           200\n",
              "Гинекология                       200\n",
              "Хирургия                          200\n",
              "Кардиология                       200\n",
              "Инфекционные болезни              200\n",
              "Неврология                        200\n",
              "Гастроэнтерология                 200\n",
              "Дерматология и венерология        200\n",
              "Аллергология - Иммунология        200\n",
              "Психология - психотерапия         195\n",
              "Онкология и маммология            161\n",
              "Офтальмология                     112\n",
              "Педиатрия                          98\n",
              "Name: name, dtype: int64"
            ]
          },
          "execution_count": 23,
          "metadata": {},
          "output_type": "execute_result"
        }
      ],
      "source": [
        "combined = pd.concat([df_oversample, df_undersample, part_df])\n",
        "combined.name.value_counts()"
      ]
    },
    {
      "cell_type": "code",
      "execution_count": 24,
      "metadata": {
        "colab": {
          "base_uri": "https://localhost:8080/"
        },
        "id": "OE6xU00hK5M0",
        "outputId": "29702554-9337-4234-a53b-60d775203efb"
      },
      "outputs": [
        {
          "name": "stderr",
          "output_type": "stream",
          "text": [
            "100%|██████████| 3737/3737 [00:01<00:00, 3064.75it/s]\n",
            "100%|██████████| 3737/3737 [00:04<00:00, 886.07it/s]\n",
            "100%|██████████| 3737/3737 [00:13<00:00, 277.98it/s]\n"
          ]
        },
        {
          "data": {
            "text/plain": [
              "3172    подсказать пожалуйста , немного першить горло ...\n",
              "3173    здравствуйте ! 2 неделя назад насморк начаться...\n",
              "3174    здравствуйте , приём лор непонятный анализ . п...\n",
              "3175    добрый день ! очень нужный консультация повод ...\n",
              "3176    здравствуйте ! быть приём у. лор ребенок ( 13 ...\n",
              "3177    добрый день . берухо мягкий , многоразовый , п...\n",
              "Name: case, dtype: object"
            ]
          },
          "execution_count": 24,
          "metadata": {},
          "output_type": "execute_result"
        }
      ],
      "source": [
        "dataset = combined.copy()\n",
        "dataset.case = preprocess_case(combined)\n",
        "dataset.case.head(6)"
      ]
    },
    {
      "cell_type": "code",
      "execution_count": 25,
      "metadata": {
        "id": "H6eoy2l42Nqq"
      },
      "outputs": [],
      "source": [
        "label_encoder = LabelEncoder()\n",
        "dataset['name'] = label_encoder.fit_transform(combined['name'])"
      ]
    },
    {
      "cell_type": "code",
      "execution_count": 26,
      "metadata": {
        "colab": {
          "base_uri": "https://localhost:8080/"
        },
        "id": "CTzaAhjeK5M0",
        "outputId": "7b88ac7d-15f2-4b64-ed65-bdc6f6497668"
      },
      "outputs": [
        {
          "data": {
            "text/plain": [
              "1237"
            ]
          },
          "execution_count": 26,
          "metadata": {},
          "output_type": "execute_result"
        }
      ],
      "source": [
        "# Сборщик мусора, очистка памяти\n",
        "gc.collect()"
      ]
    },
    {
      "cell_type": "markdown",
      "metadata": {
        "id": "SKwuCUmNK5M1"
      },
      "source": [
        "Мы видим явный дисбаланс классов, следовательно, уже на данном этапе можно сказать, что модель не сможет достоверно определять принадлежность к малочисленными классами."
      ]
    },
    {
      "cell_type": "code",
      "execution_count": 27,
      "metadata": {
        "colab": {
          "base_uri": "https://localhost:8080/",
          "height": 447
        },
        "id": "q1dpqVNtK5M1",
        "outputId": "e74864cc-21dd-4250-9386-d27d744635c3"
      },
      "outputs": [
        {
          "data": {
            "text/plain": [
              "<Axes: >"
            ]
          },
          "execution_count": 27,
          "metadata": {},
          "output_type": "execute_result"
        },
        {
          "data": {
            "image/png": "[encoded data removed]",
            "text/plain": [
              "<Figure size 640x480 with 1 Axes>"
            ]
          },
          "metadata": {},
          "output_type": "display_data"
        }
      ],
      "source": [
        "# Получаем длины обращений в нашем наборе данных\n",
        "seq_len = [len(i.split()) for i in dataset.case]\n",
        "pd.Series(seq_len).hist(bins = 80)"
      ]
    },
    {
      "cell_type": "markdown",
      "metadata": {
        "id": "NVsbJEdoK5M1"
      },
      "source": [
        "Ограничимся 250 символами для анализа."
      ]
    },
    {
      "cell_type": "markdown",
      "metadata": {
        "id": "se4fzcngK5M1"
      },
      "source": [
        "### Деление выборки на train, valid, test"
      ]
    },
    {
      "cell_type": "code",
      "execution_count": 28,
      "metadata": {
        "id": "pBj_AHfIK5M1"
      },
      "outputs": [],
      "source": [
        "datadict = Dataset.from_pandas(dataset)\n",
        "\n",
        "# 70% обучающая выборка, 30% - валидация и тест\n",
        "train_testvalid = datadict.train_test_split(train_size=0.7, test_size=0.3)\n",
        "# Делим 30% валидации и теста пополам\n",
        "test_valid = train_testvalid['test'].train_test_split(train_size=0.5, test_size=0.5)\n",
        "\n",
        "datadict = DatasetDict({'train': train_testvalid['train'],\n",
        "                       'test': test_valid['test'],\n",
        "                       'valid': test_valid['train']})"
      ]
    },
    {
      "cell_type": "code",
      "execution_count": 29,
      "metadata": {
        "colab": {
          "base_uri": "https://localhost:8080/"
        },
        "id": "blirCu-NK5M2",
        "outputId": "4316aa3a-7641-456b-aebc-574153bf1632"
      },
      "outputs": [
        {
          "data": {
            "text/plain": [
              "{'name': 0,\n",
              " 'case': 'добрый день . хотеть узнать . ваш мнение . стоить диагноз сактосальпингс эндометриоз . после операция планироваться . эко . нужно операция принимать какой-то препарат ? сразу подавать документ квота ?',\n",
              " '__index_level_0__': 40}"
            ]
          },
          "execution_count": 29,
          "metadata": {},
          "output_type": "execute_result"
        }
      ],
      "source": [
        "datadict['test'][4]"
      ]
    },
    {
      "cell_type": "markdown",
      "metadata": {
        "id": "6jTrcsOMK5M2"
      },
      "source": [
        "### Импорт модели и токенизатора RuBERT с HuggingFace"
      ]
    },
    {
      "cell_type": "code",
      "execution_count": 30,
      "metadata": {
        "id": "xkNTyg_lK5M2"
      },
      "outputs": [],
      "source": [
        "MODEL_NAME = 'ai-forever/ruBert-base'\n",
        "MAX_LENGTH = 250\n",
        "NUM_LABELS = combined.name.nunique()"
      ]
    },
    {
      "cell_type": "code",
      "execution_count": 31,
      "metadata": {
        "colab": {
          "base_uri": "https://localhost:8080/"
        },
        "id": "lkgLVGDuK5M9",
        "outputId": "eaa0a25f-7718-4ae3-db6e-8df943590736"
      },
      "outputs": [
        {
          "name": "stdout",
          "output_type": "stream",
          "text": [
            "Произошла ошибка при создании директорий.\n"
          ]
        }
      ],
      "source": [
        "# Путь в Windows, создается вручную\n",
        "# RESULT_PATH = r'C:\\Users\\Пользователь\\Documents\\Учеба\\Диплом\\Практика\\BERT_classification\\result'\n",
        "# LOGGING_PATH = r'C:\\Users\\Пользователь\\Documents\\Учеба\\Диплом\\Практика\\BERT_classification\\result\\logging'\n",
        "# Путь в Colab\n",
        "create_result_directory()\n",
        "RESULT_PATH = '/content/result'\n",
        "LOGGING_PATH = '/content/result/logging'\n",
        "\n",
        "DROPOUT = 0.1\n",
        "N_EPOCHS = 20\n",
        "BATCH_SIZE = 16\n",
        "LEARNING_RATE = 2e-5\n",
        "WEIGHT_DECAY = 0.04\n",
        "METRIC = 'f1'\n",
        "F1 = evaluate.load('f1')\n",
        "OPTIMIZER_NAME = 'adamw_torch'"
      ]
    },
    {
      "cell_type": "code",
      "execution_count": 32,
      "metadata": {
        "colab": {
          "base_uri": "https://localhost:8080/"
        },
        "id": "261eyv_RK5M2",
        "outputId": "6adfe57d-f4c8-4303-fbbc-7970cb4b4c6f"
      },
      "outputs": [
        {
          "name": "stderr",
          "output_type": "stream",
          "text": [
            "Some weights of the model checkpoint at ai-forever/ruBert-base were not used when initializing BertForSequenceClassification: ['cls.predictions.transform.LayerNorm.bias', 'cls.seq_relationship.bias', 'cls.predictions.transform.LayerNorm.weight', 'cls.predictions.transform.dense.weight', 'cls.predictions.transform.dense.bias', 'cls.seq_relationship.weight', 'cls.predictions.bias', 'cls.predictions.decoder.bias', 'cls.predictions.decoder.weight']\n",
            "- This IS expected if you are initializing BertForSequenceClassification from the checkpoint of a model trained on another task or with another architecture (e.g. initializing a BertForSequenceClassification model from a BertForPreTraining model).\n",
            "- This IS NOT expected if you are initializing BertForSequenceClassification from the checkpoint of a model that you expect to be exactly identical (initializing a BertForSequenceClassification model from a BertForSequenceClassification model).\n",
            "Some weights of BertForSequenceClassification were not initialized from the model checkpoint at ai-forever/ruBert-base and are newly initialized: ['classifier.weight', 'classifier.bias']\n",
            "You should probably TRAIN this model on a down-stream task to be able to use it for predictions and inference.\n"
          ]
        }
      ],
      "source": [
        "model = BertForSequenceClassification.from_pretrained(MODEL_NAME, \n",
        "                                                      num_labels=NUM_LABELS, \n",
        "                                                      attention_probs_dropout_prob=DROPOUT,\n",
        "                                                      hidden_dropout_prob=DROPOUT)\n",
        "tokenizer = BertTokenizerFast.from_pretrained(MODEL_NAME) # RuBERT\n",
        "# tokenizer = RobertaTokenizerFast.from_pretrained(MODEL_NAME) # RuRoBERTa"
      ]
    },
    {
      "cell_type": "code",
      "execution_count": 33,
      "metadata": {
        "colab": {
          "base_uri": "https://localhost:8080/"
        },
        "id": "zXqS_R4uK5M2",
        "outputId": "290a4ebe-f2ae-40c1-da2f-f95b86e8d1a1"
      },
      "outputs": [
        {
          "data": {
            "text/plain": [
              "BertForSequenceClassification(\n",
              "  (bert): BertModel(\n",
              "    (embeddings): BertEmbeddings(\n",
              "      (word_embeddings): Embedding(120138, 768, padding_idx=0)\n",
              "      (position_embeddings): Embedding(512, 768)\n",
              "      (token_type_embeddings): Embedding(2, 768)\n",
              "      (LayerNorm): LayerNorm((768,), eps=1e-12, elementwise_affine=True)\n",
              "      (dropout): Dropout(p=0.1, inplace=False)\n",
              "    )\n",
              "    (encoder): BertEncoder(\n",
              "      (layer): ModuleList(\n",
              "        (0-11): 12 x BertLayer(\n",
              "          (attention): BertAttention(\n",
              "            (self): BertSelfAttention(\n",
              "              (query): Linear(in_features=768, out_features=768, bias=True)\n",
              "              (key): Linear(in_features=768, out_features=768, bias=True)\n",
              "              (value): Linear(in_features=768, out_features=768, bias=True)\n",
              "              (dropout): Dropout(p=0.1, inplace=False)\n",
              "            )\n",
              "            (output): BertSelfOutput(\n",
              "              (dense): Linear(in_features=768, out_features=768, bias=True)\n",
              "              (LayerNorm): LayerNorm((768,), eps=1e-12, elementwise_affine=True)\n",
              "              (dropout): Dropout(p=0.1, inplace=False)\n",
              "            )\n",
              "          )\n",
              "          (intermediate): BertIntermediate(\n",
              "            (dense): Linear(in_features=768, out_features=3072, bias=True)\n",
              "            (intermediate_act_fn): GELUActivation()\n",
              "          )\n",
              "          (output): BertOutput(\n",
              "            (dense): Linear(in_features=3072, out_features=768, bias=True)\n",
              "            (LayerNorm): LayerNorm((768,), eps=1e-12, elementwise_affine=True)\n",
              "            (dropout): Dropout(p=0.1, inplace=False)\n",
              "          )\n",
              "        )\n",
              "      )\n",
              "    )\n",
              "    (pooler): BertPooler(\n",
              "      (dense): Linear(in_features=768, out_features=768, bias=True)\n",
              "      (activation): Tanh()\n",
              "    )\n",
              "  )\n",
              "  (dropout): Dropout(p=0.1, inplace=False)\n",
              "  (classifier): Linear(in_features=768, out_features=18, bias=True)\n",
              ")"
            ]
          },
          "execution_count": 33,
          "metadata": {},
          "output_type": "execute_result"
        }
      ],
      "source": [
        "model = model.to(device)\n",
        "model"
      ]
    },
    {
      "cell_type": "markdown",
      "metadata": {
        "id": "iWj3s6jkK5M3"
      },
      "source": [
        "### Токенизация"
      ]
    },
    {
      "cell_type": "code",
      "execution_count": 34,
      "metadata": {
        "colab": {
          "base_uri": "https://localhost:8080/",
          "height": 260,
          "referenced_widgets": [
            "e4f8ea00a319448babc9c5df9fd1056c",
            "2d9deadf0e9544e6bc94230f95124294",
            "53993c00f85a453597e7ba0a13eff7e4",
            "0cd1f1d679db4a7c8c92820a9730b223",
            "5a855a1166204d079f715b59dc888456",
            "b1baf56a6f154796b5f7dd1342529877",
            "fd9e9010e20a43e497fb5a99515ed61a",
            "de514504b9cc4818ad59308f2c6cfa23",
            "205b1f1e556f424ca74205e381ba9a85",
            "c62e82d2b57642b78395bc39fc1223d1",
            "16c82cc72cb54058a30e0624915691c1",
            "cbef2966aa5d4c56bf6e9496fdc87af0",
            "d1c99ca57efe45a6bc32206afca122e8",
            "b99cf6d765884fe09837483843c72e36",
            "9833b69ff4574cd983b610977a0a8417",
            "fa0df544faff4cbcaad325c3d2f40a9d",
            "82532358dc3346609effdc065dd2f677",
            "f1f5e79ca3cb4a63b4272607661c4219",
            "39cfec05dc5e418d85cb8663611502f7",
            "974467f72d5c4b8bae67220b52fc96d3",
            "b4c7dd0dca5049ca93540778e91692ef",
            "2f315f4b02094042a9903bb48ef4f637",
            "07dd3d8478b34455b5f1a5c394b8567c",
            "99413a8e824e4347a860f0a4c821839f",
            "514e7f84cacd4a95bab3d4f610abdb1f",
            "41aac8c8b41546f7852d12cac3c018ff",
            "c1efe2393d964f308bf32627528013f2",
            "e6e83897fbc44a94b5f3af66cda9ad96",
            "cdcd488d70054dee84245279b06a0c27",
            "0883a46f5bf2462297ef35b48abb5ed1",
            "d316ac71e48b47f6b9873465b72a7020",
            "fa8fe1c0e2e04b4ca9944b06cc540d3a",
            "69aec2bb6635482dbb30ea926c280d21"
          ]
        },
        "id": "6f1B6TEDK5M8",
        "outputId": "7751f16e-3849-40f6-f73f-5c8983ec2b2d"
      },
      "outputs": [
        {
          "data": {
            "application/vnd.jupyter.widget-view+json": {
              "model_id": "e4f8ea00a319448babc9c5df9fd1056c",
              "version_major": 2,
              "version_minor": 0
            },
            "text/plain": [
              "Map:   0%|          | 0/2615 [00:00<?, ? examples/s]"
            ]
          },
          "metadata": {},
          "output_type": "display_data"
        },
        {
          "data": {
            "application/vnd.jupyter.widget-view+json": {
              "model_id": "cbef2966aa5d4c56bf6e9496fdc87af0",
              "version_major": 2,
              "version_minor": 0
            },
            "text/plain": [
              "Map:   0%|          | 0/561 [00:00<?, ? examples/s]"
            ]
          },
          "metadata": {},
          "output_type": "display_data"
        },
        {
          "data": {
            "application/vnd.jupyter.widget-view+json": {
              "model_id": "07dd3d8478b34455b5f1a5c394b8567c",
              "version_major": 2,
              "version_minor": 0
            },
            "text/plain": [
              "Map:   0%|          | 0/561 [00:00<?, ? examples/s]"
            ]
          },
          "metadata": {},
          "output_type": "display_data"
        },
        {
          "data": {
            "text/plain": [
              "DatasetDict({\n",
              "    train: Dataset({\n",
              "        features: ['name', 'case', '__index_level_0__', 'input_ids', 'token_type_ids', 'attention_mask', 'labels'],\n",
              "        num_rows: 2615\n",
              "    })\n",
              "    test: Dataset({\n",
              "        features: ['name', 'case', '__index_level_0__', 'input_ids', 'token_type_ids', 'attention_mask', 'labels'],\n",
              "        num_rows: 561\n",
              "    })\n",
              "    valid: Dataset({\n",
              "        features: ['name', 'case', '__index_level_0__', 'input_ids', 'token_type_ids', 'attention_mask', 'labels'],\n",
              "        num_rows: 561\n",
              "    })\n",
              "})"
            ]
          },
          "execution_count": 34,
          "metadata": {},
          "output_type": "execute_result"
        }
      ],
      "source": [
        "tokenized_datadict = datadict.map(lambda example: process_data(example, tokenizer, MAX_LENGTH),\n",
        "                                 batched=True)\n",
        "tokenized_datadict"
      ]
    },
    {
      "cell_type": "code",
      "execution_count": 35,
      "metadata": {
        "id": "xKutoxqKONRl"
      },
      "outputs": [],
      "source": [
        "test = tokenized_datadict['test']\n",
        "tokenized_datadict = tokenized_datadict.remove_columns(['name', 'case',\n",
        "                                                        '__index_level_0__'])"
      ]
    },
    {
      "cell_type": "markdown",
      "metadata": {
        "id": "u691EHUPK5M9"
      },
      "source": [
        "### Обучение"
      ]
    },
    {
      "cell_type": "code",
      "execution_count": 36,
      "metadata": {
        "colab": {
          "base_uri": "https://localhost:8080/",
          "height": 121
        },
        "id": "RNEYvoMVYJTp",
        "outputId": "f0557d8c-e02e-422d-a9fd-7460cd04045d"
      },
      "outputs": [
        {
          "name": "stderr",
          "output_type": "stream",
          "text": [
            "\u001b[34m\u001b[1mwandb\u001b[0m: W&B API key is configured. Use \u001b[1m`wandb login --relogin`\u001b[0m to force relogin\n"
          ]
        },
        {
          "data": {
            "text/html": [
              "Tracking run with wandb version 0.15.3"
            ],
            "text/plain": [
              "<IPython.core.display.HTML object>"
            ]
          },
          "metadata": {},
          "output_type": "display_data"
        },
        {
          "data": {
            "text/html": [
              "Run data is saved locally in <code>/content/wandb/run-20230521_225309-39w4zv0h</code>"
            ],
            "text/plain": [
              "<IPython.core.display.HTML object>"
            ]
          },
          "metadata": {},
          "output_type": "display_data"
        },
        {
          "data": {
            "text/html": [
              "Syncing run <strong><a href='https://wandb.ai/graviada/ruroberta/runs/39w4zv0h' target=\"_blank\">/content/result</a></strong> to <a href='https://wandb.ai/graviada/ruroberta' target=\"_blank\">Weights & Biases</a> (<a href='https://wandb.me/run' target=\"_blank\">docs</a>)<br/>"
            ],
            "text/plain": [
              "<IPython.core.display.HTML object>"
            ]
          },
          "metadata": {},
          "output_type": "display_data"
        },
        {
          "data": {
            "text/html": [
              " View project at <a href='https://wandb.ai/graviada/ruroberta' target=\"_blank\">https://wandb.ai/graviada/ruroberta</a>"
            ],
            "text/plain": [
              "<IPython.core.display.HTML object>"
            ]
          },
          "metadata": {},
          "output_type": "display_data"
        },
        {
          "data": {
            "text/html": [
              " View run at <a href='https://wandb.ai/graviada/ruroberta/runs/39w4zv0h' target=\"_blank\">https://wandb.ai/graviada/ruroberta/runs/39w4zv0h</a>"
            ],
            "text/plain": [
              "<IPython.core.display.HTML object>"
            ]
          },
          "metadata": {},
          "output_type": "display_data"
        }
      ],
      "source": [
        "run = wandb.init(project='rubert-base', name=RESULT_PATH)\n",
        "run.config.update({'task': 'medicine', 'model': MODEL_NAME, 'checkpoint': LOGGING_PATH})"
      ]
    },
    {
      "cell_type": "code",
      "execution_count": 37,
      "metadata": {
        "id": "VjHy499CK5M9"
      },
      "outputs": [],
      "source": [
        "training_args = TrainingArguments(\n",
        "    output_dir=RESULT_PATH,\n",
        "    overwrite_output_dir=True,\n",
        "    evaluation_strategy='epoch',\n",
        "    logging_strategy='epoch',\n",
        "    logging_first_step=True,\n",
        "    logging_dir=LOGGING_PATH,\n",
        "    per_device_train_batch_size=BATCH_SIZE,\n",
        "    per_device_eval_batch_size=BATCH_SIZE,\n",
        "    learning_rate=LEARNING_RATE,\n",
        "    num_train_epochs=N_EPOCHS,\n",
        "    optim=OPTIMIZER_NAME,\n",
        "    warmup_ratio=0.1,\n",
        "    save_strategy='epoch',\n",
        "    seed=SEED,\n",
        "    fp16=True,\n",
        "    dataloader_num_workers=2,\n",
        "    group_by_length=True,\n",
        "    save_total_limit=1,\n",
        "    load_best_model_at_end=True,\n",
        "    metric_for_best_model=METRIC\n",
        "    )"
      ]
    },
    {
      "cell_type": "code",
      "execution_count": 38,
      "metadata": {
        "id": "HmpeK1WvK5M9"
      },
      "outputs": [],
      "source": [
        "data_collator = DataCollatorWithPadding(tokenizer, pad_to_multiple_of=8)"
      ]
    },
    {
      "cell_type": "code",
      "execution_count": 39,
      "metadata": {
        "id": "ab-Ki_S2K5M-"
      },
      "outputs": [],
      "source": [
        "trainer = Trainer(\n",
        "    model=model,\n",
        "    args=training_args,\n",
        "    train_dataset=tokenized_datadict['train'],\n",
        "    eval_dataset=tokenized_datadict['valid'],\n",
        "    compute_metrics=partial(compute_metrics,\n",
        "                            processed_dataset=tokenized_datadict['valid']),\n",
        "    tokenizer=tokenizer,\n",
        "    data_collator=data_collator\n",
        "    )"
      ]
    },
    {
      "cell_type": "code",
      "execution_count": null,
      "metadata": {
        "colab": {
          "base_uri": "https://localhost:8080/",
          "height": 357
        },
        "id": "XkUl9s7zK5M-",
        "outputId": "f7806420-3168-4d41-cda7-274fcc8cc5fb"
      },
      "outputs": [
        {
          "data": {
            "text/html": [
              "\n",
              "    <div>\n",
              "      \n",
              "      <progress value='1477' max='4100' style='width:300px; height:20px; vertical-align: middle;'></progress>\n",
              "      [1477/4100 10:03 < 17:52, 2.45 it/s, Epoch 9/25]\n",
              "    </div>\n",
              "    <table border=\"1\" class=\"dataframe\">\n",
              "  <thead>\n",
              " <tr style=\"text-align: left;\">\n",
              "      <th>Epoch</th>\n",
              "      <th>Training Loss</th>\n",
              "      <th>Validation Loss</th>\n",
              "      <th>F1</th>\n",
              "    </tr>\n",
              "  </thead>\n",
              "  <tbody>\n",
              "    <tr>\n",
              "      <td>1</td>\n",
              "      <td>2.870500</td>\n",
              "      <td>2.818871</td>\n",
              "      <td>0.041045</td>\n",
              "    </tr>\n",
              "    <tr>\n",
              "      <td>2</td>\n",
              "      <td>2.815800</td>\n",
              "      <td>2.758514</td>\n",
              "      <td>0.053243</td>\n",
              "    </tr>\n",
              "    <tr>\n",
              "      <td>3</td>\n",
              "      <td>2.713500</td>\n",
              "      <td>2.640268</td>\n",
              "      <td>0.120413</td>\n",
              "    </tr>\n",
              "    <tr>\n",
              "      <td>4</td>\n",
              "      <td>2.475200</td>\n",
              "      <td>2.343865</td>\n",
              "      <td>0.293392</td>\n",
              "    </tr>\n",
              "    <tr>\n",
              "      <td>5</td>\n",
              "      <td>2.162600</td>\n",
              "      <td>2.083321</td>\n",
              "      <td>0.401647</td>\n",
              "    </tr>\n",
              "    <tr>\n",
              "      <td>6</td>\n",
              "      <td>1.872000</td>\n",
              "      <td>1.893118</td>\n",
              "      <td>0.472211</td>\n",
              "    </tr>\n",
              "    <tr>\n",
              "      <td>7</td>\n",
              "      <td>1.659100</td>\n",
              "      <td>1.793007</td>\n",
              "      <td>0.478676</td>\n",
              "    </tr>\n",
              "    <tr>\n",
              "      <td>8</td>\n",
              "      <td>1.480100</td>\n",
              "      <td>1.703475</td>\n",
              "      <td>0.490296</td>\n",
              "    </tr>\n",
              "    <tr>\n",
              "      <td>9</td>\n",
              "      <td>1.332300</td>\n",
              "      <td>1.644317</td>\n",
              "      <td>0.503117</td>\n",
              "    </tr>\n",
              "  </tbody>\n",
              "</table><p>"
            ],
            "text/plain": [
              "<IPython.core.display.HTML object>"
            ]
          },
          "metadata": {},
          "output_type": "display_data"
        }
      ],
      "source": [
        "trainer.train()"
      ]
    },
    {
      "cell_type": "code",
      "execution_count": null,
      "metadata": {
        "id": "YZ-Br0l1ncx8"
      },
      "outputs": [],
      "source": [
        "predictions = trainer.predict(test_dataset=tokenized_datadict['test'])\n",
        "print('dev', predictions.metrics)"
      ]
    },
    {
      "cell_type": "code",
      "execution_count": null,
      "metadata": {
        "id": "_YRIlwzgYkt1"
      },
      "outputs": [],
      "source": [
        "run.summary.update(predictions.metrics)\n",
        "wandb.finish()"
      ]
    },
    {
      "cell_type": "markdown",
      "metadata": {
        "id": "HpAKabHNYlyj"
      },
      "source": [
        "### Тестирование"
      ]
    },
    {
      "cell_type": "code",
      "execution_count": null,
      "metadata": {
        "id": "9UOXJ7HGQshg"
      },
      "outputs": [],
      "source": [
        "processed_predictions = process_predictions(predictions.predictions, label_encoder)\n",
        "processed_predictions[:3]"
      ]
    },
    {
      "cell_type": "code",
      "execution_count": null,
      "metadata": {
        "id": "opMXkheiQZyI"
      },
      "outputs": [],
      "source": [
        "for i in range(30, 40):\n",
        "    print(test['case'][i][:150] + '\\t--- ' + processed_predictions[i]['name'])"
      ]
    },
    {
      "cell_type": "markdown",
      "metadata": {
        "id": "fxMfp9iUMzhy"
      },
      "source": [
        "### Выкладывание модели на Hugging Face"
      ]
    },
    {
      "cell_type": "code",
      "execution_count": null,
      "metadata": {
        "id": "UQeyRGUFLmve"
      },
      "outputs": [],
      "source": [
        "MY_MODEL_PATH = RESULT_PATH + '/model'\n",
        "if not os.path.exists(MY_MODEL_PATH):\n",
        "    os.makedirs(MY_MODEL_PATH)"
      ]
    },
    {
      "cell_type": "code",
      "execution_count": null,
      "metadata": {
        "id": "FLIM-MEQLdsC"
      },
      "outputs": [],
      "source": [
        "trainer.save_model(MY_MODEL_PATH)"
      ]
    },
    {
      "cell_type": "code",
      "execution_count": null,
      "metadata": {
        "id": "fraWWHEVMZrg"
      },
      "outputs": [],
      "source": [
        "from huggingface_hub import notebook_login\n",
        "\n",
        "notebook_login()"
      ]
    },
    {
      "cell_type": "code",
      "execution_count": null,
      "metadata": {
        "id": "zrFqrvMFM-OG"
      },
      "outputs": [],
      "source": [
        "my_model = BertForSequenceClassification.from_pretrained(MY_MODEL_PATH)"
      ]
    },
    {
      "cell_type": "code",
      "execution_count": null,
      "metadata": {
        "id": "2QYluTJAMx8H"
      },
      "outputs": [],
      "source": [
        "my_model.push_to_hub('graviada/ruBERT-medicine-classification')"
      ]
    },
    {
      "cell_type": "code",
      "execution_count": null,
      "metadata": {
        "id": "w5H0Wh6wNjGe"
      },
      "outputs": [],
      "source": [
        "my_model_check = BertForSequenceClassification.from_pretrained('graviada/ruBERT-medicine-classification')\n",
        "my_model_check"
      ]
    }
  ],
  "metadata": {
    "accelerator": "GPU",
    "colab": {
      "gpuType": "T4",
      "provenance": []
    },
    "gpuClass": "standard",
    "kernelspec": {
      "display_name": ".venv",
      "language": "python",
      "name": "python3"
    },
    "language_info": {
      "codemirror_mode": {
        "name": "ipython",
        "version": 3
      },
      "file_extension": ".py",
      "mimetype": "text/x-python",
      "name": "python",
      "nbconvert_exporter": "python",
      "pygments_lexer": "ipython3",
      "version": "3.10.11"
    },
    "orig_nbformat": 4,
    "widgets": {
      "application/vnd.jupyter.widget-state+json": {
        "07dd3d8478b34455b5f1a5c394b8567c": {
          "model_module": "@jupyter-widgets/controls",
          "model_module_version": "1.5.0",
          "model_name": "HBoxModel",
          "state": {
            "_dom_classes": [],
            "_model_module": "@jupyter-widgets/controls",
            "_model_module_version": "1.5.0",
            "_model_name": "HBoxModel",
            "_view_count": null,
            "_view_module": "@jupyter-widgets/controls",
            "_view_module_version": "1.5.0",
            "_view_name": "HBoxView",
            "box_style": "",
            "children": [
              "IPY_MODEL_99413a8e824e4347a860f0a4c821839f",
              "IPY_MODEL_514e7f84cacd4a95bab3d4f610abdb1f",
              "IPY_MODEL_41aac8c8b41546f7852d12cac3c018ff"
            ],
            "layout": "IPY_MODEL_c1efe2393d964f308bf32627528013f2"
          }
        },
        "0883a46f5bf2462297ef35b48abb5ed1": {
          "model_module": "@jupyter-widgets/base",
          "model_module_version": "1.2.0",
          "model_name": "LayoutModel",
          "state": {
            "_model_module": "@jupyter-widgets/base",
            "_model_module_version": "1.2.0",
            "_model_name": "LayoutModel",
            "_view_count": null,
            "_view_module": "@jupyter-widgets/base",
            "_view_module_version": "1.2.0",
            "_view_name": "LayoutView",
            "align_content": null,
            "align_items": null,
            "align_self": null,
            "border": null,
            "bottom": null,
            "display": null,
            "flex": null,
            "flex_flow": null,
            "grid_area": null,
            "grid_auto_columns": null,
            "grid_auto_flow": null,
            "grid_auto_rows": null,
            "grid_column": null,
            "grid_gap": null,
            "grid_row": null,
            "grid_template_areas": null,
            "grid_template_columns": null,
            "grid_template_rows": null,
            "height": null,
            "justify_content": null,
            "justify_items": null,
            "left": null,
            "margin": null,
            "max_height": null,
            "max_width": null,
            "min_height": null,
            "min_width": null,
            "object_fit": null,
            "object_position": null,
            "order": null,
            "overflow": null,
            "overflow_x": null,
            "overflow_y": null,
            "padding": null,
            "right": null,
            "top": null,
            "visibility": null,
            "width": null
          }
        },
        "0cd1f1d679db4a7c8c92820a9730b223": {
          "model_module": "@jupyter-widgets/controls",
          "model_module_version": "1.5.0",
          "model_name": "HTMLModel",
          "state": {
            "_dom_classes": [],
            "_model_module": "@jupyter-widgets/controls",
            "_model_module_version": "1.5.0",
            "_model_name": "HTMLModel",
            "_view_count": null,
            "_view_module": "@jupyter-widgets/controls",
            "_view_module_version": "1.5.0",
            "_view_name": "HTMLView",
            "description": "",
            "description_tooltip": null,
            "layout": "IPY_MODEL_c62e82d2b57642b78395bc39fc1223d1",
            "placeholder": "​",
            "style": "IPY_MODEL_16c82cc72cb54058a30e0624915691c1",
            "value": " 2615/2615 [00:01&lt;00:00, 1829.14 examples/s]"
          }
        },
        "16c82cc72cb54058a30e0624915691c1": {
          "model_module": "@jupyter-widgets/controls",
          "model_module_version": "1.5.0",
          "model_name": "DescriptionStyleModel",
          "state": {
            "_model_module": "@jupyter-widgets/controls",
            "_model_module_version": "1.5.0",
            "_model_name": "DescriptionStyleModel",
            "_view_count": null,
            "_view_module": "@jupyter-widgets/base",
            "_view_module_version": "1.2.0",
            "_view_name": "StyleView",
            "description_width": ""
          }
        },
        "205b1f1e556f424ca74205e381ba9a85": {
          "model_module": "@jupyter-widgets/controls",
          "model_module_version": "1.5.0",
          "model_name": "ProgressStyleModel",
          "state": {
            "_model_module": "@jupyter-widgets/controls",
            "_model_module_version": "1.5.0",
            "_model_name": "ProgressStyleModel",
            "_view_count": null,
            "_view_module": "@jupyter-widgets/base",
            "_view_module_version": "1.2.0",
            "_view_name": "StyleView",
            "bar_color": null,
            "description_width": ""
          }
        },
        "2d9deadf0e9544e6bc94230f95124294": {
          "model_module": "@jupyter-widgets/controls",
          "model_module_version": "1.5.0",
          "model_name": "HTMLModel",
          "state": {
            "_dom_classes": [],
            "_model_module": "@jupyter-widgets/controls",
            "_model_module_version": "1.5.0",
            "_model_name": "HTMLModel",
            "_view_count": null,
            "_view_module": "@jupyter-widgets/controls",
            "_view_module_version": "1.5.0",
            "_view_name": "HTMLView",
            "description": "",
            "description_tooltip": null,
            "layout": "IPY_MODEL_b1baf56a6f154796b5f7dd1342529877",
            "placeholder": "​",
            "style": "IPY_MODEL_fd9e9010e20a43e497fb5a99515ed61a",
            "value": "Map: 100%"
          }
        },
        "2f315f4b02094042a9903bb48ef4f637": {
          "model_module": "@jupyter-widgets/controls",
          "model_module_version": "1.5.0",
          "model_name": "DescriptionStyleModel",
          "state": {
            "_model_module": "@jupyter-widgets/controls",
            "_model_module_version": "1.5.0",
            "_model_name": "DescriptionStyleModel",
            "_view_count": null,
            "_view_module": "@jupyter-widgets/base",
            "_view_module_version": "1.2.0",
            "_view_name": "StyleView",
            "description_width": ""
          }
        },
        "39cfec05dc5e418d85cb8663611502f7": {
          "model_module": "@jupyter-widgets/base",
          "model_module_version": "1.2.0",
          "model_name": "LayoutModel",
          "state": {
            "_model_module": "@jupyter-widgets/base",
            "_model_module_version": "1.2.0",
            "_model_name": "LayoutModel",
            "_view_count": null,
            "_view_module": "@jupyter-widgets/base",
            "_view_module_version": "1.2.0",
            "_view_name": "LayoutView",
            "align_content": null,
            "align_items": null,
            "align_self": null,
            "border": null,
            "bottom": null,
            "display": null,
            "flex": null,
            "flex_flow": null,
            "grid_area": null,
            "grid_auto_columns": null,
            "grid_auto_flow": null,
            "grid_auto_rows": null,
            "grid_column": null,
            "grid_gap": null,
            "grid_row": null,
            "grid_template_areas": null,
            "grid_template_columns": null,
            "grid_template_rows": null,
            "height": null,
            "justify_content": null,
            "justify_items": null,
            "left": null,
            "margin": null,
            "max_height": null,
            "max_width": null,
            "min_height": null,
            "min_width": null,
            "object_fit": null,
            "object_position": null,
            "order": null,
            "overflow": null,
            "overflow_x": null,
            "overflow_y": null,
            "padding": null,
            "right": null,
            "top": null,
            "visibility": null,
            "width": null
          }
        },
        "41aac8c8b41546f7852d12cac3c018ff": {
          "model_module": "@jupyter-widgets/controls",
          "model_module_version": "1.5.0",
          "model_name": "HTMLModel",
          "state": {
            "_dom_classes": [],
            "_model_module": "@jupyter-widgets/controls",
            "_model_module_version": "1.5.0",
            "_model_name": "HTMLModel",
            "_view_count": null,
            "_view_module": "@jupyter-widgets/controls",
            "_view_module_version": "1.5.0",
            "_view_name": "HTMLView",
            "description": "",
            "description_tooltip": null,
            "layout": "IPY_MODEL_fa8fe1c0e2e04b4ca9944b06cc540d3a",
            "placeholder": "​",
            "style": "IPY_MODEL_69aec2bb6635482dbb30ea926c280d21",
            "value": " 561/561 [00:01&lt;00:00, 514.41 examples/s]"
          }
        },
        "514e7f84cacd4a95bab3d4f610abdb1f": {
          "model_module": "@jupyter-widgets/controls",
          "model_module_version": "1.5.0",
          "model_name": "FloatProgressModel",
          "state": {
            "_dom_classes": [],
            "_model_module": "@jupyter-widgets/controls",
            "_model_module_version": "1.5.0",
            "_model_name": "FloatProgressModel",
            "_view_count": null,
            "_view_module": "@jupyter-widgets/controls",
            "_view_module_version": "1.5.0",
            "_view_name": "ProgressView",
            "bar_style": "",
            "description": "",
            "description_tooltip": null,
            "layout": "IPY_MODEL_0883a46f5bf2462297ef35b48abb5ed1",
            "max": 561,
            "min": 0,
            "orientation": "horizontal",
            "style": "IPY_MODEL_d316ac71e48b47f6b9873465b72a7020",
            "value": 561
          }
        },
        "53993c00f85a453597e7ba0a13eff7e4": {
          "model_module": "@jupyter-widgets/controls",
          "model_module_version": "1.5.0",
          "model_name": "FloatProgressModel",
          "state": {
            "_dom_classes": [],
            "_model_module": "@jupyter-widgets/controls",
            "_model_module_version": "1.5.0",
            "_model_name": "FloatProgressModel",
            "_view_count": null,
            "_view_module": "@jupyter-widgets/controls",
            "_view_module_version": "1.5.0",
            "_view_name": "ProgressView",
            "bar_style": "",
            "description": "",
            "description_tooltip": null,
            "layout": "IPY_MODEL_de514504b9cc4818ad59308f2c6cfa23",
            "max": 2615,
            "min": 0,
            "orientation": "horizontal",
            "style": "IPY_MODEL_205b1f1e556f424ca74205e381ba9a85",
            "value": 2615
          }
        },
        "5a855a1166204d079f715b59dc888456": {
          "model_module": "@jupyter-widgets/base",
          "model_module_version": "1.2.0",
          "model_name": "LayoutModel",
          "state": {
            "_model_module": "@jupyter-widgets/base",
            "_model_module_version": "1.2.0",
            "_model_name": "LayoutModel",
            "_view_count": null,
            "_view_module": "@jupyter-widgets/base",
            "_view_module_version": "1.2.0",
            "_view_name": "LayoutView",
            "align_content": null,
            "align_items": null,
            "align_self": null,
            "border": null,
            "bottom": null,
            "display": null,
            "flex": null,
            "flex_flow": null,
            "grid_area": null,
            "grid_auto_columns": null,
            "grid_auto_flow": null,
            "grid_auto_rows": null,
            "grid_column": null,
            "grid_gap": null,
            "grid_row": null,
            "grid_template_areas": null,
            "grid_template_columns": null,
            "grid_template_rows": null,
            "height": null,
            "justify_content": null,
            "justify_items": null,
            "left": null,
            "margin": null,
            "max_height": null,
            "max_width": null,
            "min_height": null,
            "min_width": null,
            "object_fit": null,
            "object_position": null,
            "order": null,
            "overflow": null,
            "overflow_x": null,
            "overflow_y": null,
            "padding": null,
            "right": null,
            "top": null,
            "visibility": "hidden",
            "width": null
          }
        },
        "69aec2bb6635482dbb30ea926c280d21": {
          "model_module": "@jupyter-widgets/controls",
          "model_module_version": "1.5.0",
          "model_name": "DescriptionStyleModel",
          "state": {
            "_model_module": "@jupyter-widgets/controls",
            "_model_module_version": "1.5.0",
            "_model_name": "DescriptionStyleModel",
            "_view_count": null,
            "_view_module": "@jupyter-widgets/base",
            "_view_module_version": "1.2.0",
            "_view_name": "StyleView",
            "description_width": ""
          }
        },
        "82532358dc3346609effdc065dd2f677": {
          "model_module": "@jupyter-widgets/base",
          "model_module_version": "1.2.0",
          "model_name": "LayoutModel",
          "state": {
            "_model_module": "@jupyter-widgets/base",
            "_model_module_version": "1.2.0",
            "_model_name": "LayoutModel",
            "_view_count": null,
            "_view_module": "@jupyter-widgets/base",
            "_view_module_version": "1.2.0",
            "_view_name": "LayoutView",
            "align_content": null,
            "align_items": null,
            "align_self": null,
            "border": null,
            "bottom": null,
            "display": null,
            "flex": null,
            "flex_flow": null,
            "grid_area": null,
            "grid_auto_columns": null,
            "grid_auto_flow": null,
            "grid_auto_rows": null,
            "grid_column": null,
            "grid_gap": null,
            "grid_row": null,
            "grid_template_areas": null,
            "grid_template_columns": null,
            "grid_template_rows": null,
            "height": null,
            "justify_content": null,
            "justify_items": null,
            "left": null,
            "margin": null,
            "max_height": null,
            "max_width": null,
            "min_height": null,
            "min_width": null,
            "object_fit": null,
            "object_position": null,
            "order": null,
            "overflow": null,
            "overflow_x": null,
            "overflow_y": null,
            "padding": null,
            "right": null,
            "top": null,
            "visibility": null,
            "width": null
          }
        },
        "974467f72d5c4b8bae67220b52fc96d3": {
          "model_module": "@jupyter-widgets/controls",
          "model_module_version": "1.5.0",
          "model_name": "ProgressStyleModel",
          "state": {
            "_model_module": "@jupyter-widgets/controls",
            "_model_module_version": "1.5.0",
            "_model_name": "ProgressStyleModel",
            "_view_count": null,
            "_view_module": "@jupyter-widgets/base",
            "_view_module_version": "1.2.0",
            "_view_name": "StyleView",
            "bar_color": null,
            "description_width": ""
          }
        },
        "9833b69ff4574cd983b610977a0a8417": {
          "model_module": "@jupyter-widgets/controls",
          "model_module_version": "1.5.0",
          "model_name": "HTMLModel",
          "state": {
            "_dom_classes": [],
            "_model_module": "@jupyter-widgets/controls",
            "_model_module_version": "1.5.0",
            "_model_name": "HTMLModel",
            "_view_count": null,
            "_view_module": "@jupyter-widgets/controls",
            "_view_module_version": "1.5.0",
            "_view_name": "HTMLView",
            "description": "",
            "description_tooltip": null,
            "layout": "IPY_MODEL_b4c7dd0dca5049ca93540778e91692ef",
            "placeholder": "​",
            "style": "IPY_MODEL_2f315f4b02094042a9903bb48ef4f637",
            "value": " 561/561 [00:00&lt;00:00, 1706.94 examples/s]"
          }
        },
        "99413a8e824e4347a860f0a4c821839f": {
          "model_module": "@jupyter-widgets/controls",
          "model_module_version": "1.5.0",
          "model_name": "HTMLModel",
          "state": {
            "_dom_classes": [],
            "_model_module": "@jupyter-widgets/controls",
            "_model_module_version": "1.5.0",
            "_model_name": "HTMLModel",
            "_view_count": null,
            "_view_module": "@jupyter-widgets/controls",
            "_view_module_version": "1.5.0",
            "_view_name": "HTMLView",
            "description": "",
            "description_tooltip": null,
            "layout": "IPY_MODEL_e6e83897fbc44a94b5f3af66cda9ad96",
            "placeholder": "​",
            "style": "IPY_MODEL_cdcd488d70054dee84245279b06a0c27",
            "value": "Map: 100%"
          }
        },
        "b1baf56a6f154796b5f7dd1342529877": {
          "model_module": "@jupyter-widgets/base",
          "model_module_version": "1.2.0",
          "model_name": "LayoutModel",
          "state": {
            "_model_module": "@jupyter-widgets/base",
            "_model_module_version": "1.2.0",
            "_model_name": "LayoutModel",
            "_view_count": null,
            "_view_module": "@jupyter-widgets/base",
            "_view_module_version": "1.2.0",
            "_view_name": "LayoutView",
            "align_content": null,
            "align_items": null,
            "align_self": null,
            "border": null,
            "bottom": null,
            "display": null,
            "flex": null,
            "flex_flow": null,
            "grid_area": null,
            "grid_auto_columns": null,
            "grid_auto_flow": null,
            "grid_auto_rows": null,
            "grid_column": null,
            "grid_gap": null,
            "grid_row": null,
            "grid_template_areas": null,
            "grid_template_columns": null,
            "grid_template_rows": null,
            "height": null,
            "justify_content": null,
            "justify_items": null,
            "left": null,
            "margin": null,
            "max_height": null,
            "max_width": null,
            "min_height": null,
            "min_width": null,
            "object_fit": null,
            "object_position": null,
            "order": null,
            "overflow": null,
            "overflow_x": null,
            "overflow_y": null,
            "padding": null,
            "right": null,
            "top": null,
            "visibility": null,
            "width": null
          }
        },
        "b4c7dd0dca5049ca93540778e91692ef": {
          "model_module": "@jupyter-widgets/base",
          "model_module_version": "1.2.0",
          "model_name": "LayoutModel",
          "state": {
            "_model_module": "@jupyter-widgets/base",
            "_model_module_version": "1.2.0",
            "_model_name": "LayoutModel",
            "_view_count": null,
            "_view_module": "@jupyter-widgets/base",
            "_view_module_version": "1.2.0",
            "_view_name": "LayoutView",
            "align_content": null,
            "align_items": null,
            "align_self": null,
            "border": null,
            "bottom": null,
            "display": null,
            "flex": null,
            "flex_flow": null,
            "grid_area": null,
            "grid_auto_columns": null,
            "grid_auto_flow": null,
            "grid_auto_rows": null,
            "grid_column": null,
            "grid_gap": null,
            "grid_row": null,
            "grid_template_areas": null,
            "grid_template_columns": null,
            "grid_template_rows": null,
            "height": null,
            "justify_content": null,
            "justify_items": null,
            "left": null,
            "margin": null,
            "max_height": null,
            "max_width": null,
            "min_height": null,
            "min_width": null,
            "object_fit": null,
            "object_position": null,
            "order": null,
            "overflow": null,
            "overflow_x": null,
            "overflow_y": null,
            "padding": null,
            "right": null,
            "top": null,
            "visibility": null,
            "width": null
          }
        },
        "b99cf6d765884fe09837483843c72e36": {
          "model_module": "@jupyter-widgets/controls",
          "model_module_version": "1.5.0",
          "model_name": "FloatProgressModel",
          "state": {
            "_dom_classes": [],
            "_model_module": "@jupyter-widgets/controls",
            "_model_module_version": "1.5.0",
            "_model_name": "FloatProgressModel",
            "_view_count": null,
            "_view_module": "@jupyter-widgets/controls",
            "_view_module_version": "1.5.0",
            "_view_name": "ProgressView",
            "bar_style": "",
            "description": "",
            "description_tooltip": null,
            "layout": "IPY_MODEL_39cfec05dc5e418d85cb8663611502f7",
            "max": 561,
            "min": 0,
            "orientation": "horizontal",
            "style": "IPY_MODEL_974467f72d5c4b8bae67220b52fc96d3",
            "value": 561
          }
        },
        "c1efe2393d964f308bf32627528013f2": {
          "model_module": "@jupyter-widgets/base",
          "model_module_version": "1.2.0",
          "model_name": "LayoutModel",
          "state": {
            "_model_module": "@jupyter-widgets/base",
            "_model_module_version": "1.2.0",
            "_model_name": "LayoutModel",
            "_view_count": null,
            "_view_module": "@jupyter-widgets/base",
            "_view_module_version": "1.2.0",
            "_view_name": "LayoutView",
            "align_content": null,
            "align_items": null,
            "align_self": null,
            "border": null,
            "bottom": null,
            "display": null,
            "flex": null,
            "flex_flow": null,
            "grid_area": null,
            "grid_auto_columns": null,
            "grid_auto_flow": null,
            "grid_auto_rows": null,
            "grid_column": null,
            "grid_gap": null,
            "grid_row": null,
            "grid_template_areas": null,
            "grid_template_columns": null,
            "grid_template_rows": null,
            "height": null,
            "justify_content": null,
            "justify_items": null,
            "left": null,
            "margin": null,
            "max_height": null,
            "max_width": null,
            "min_height": null,
            "min_width": null,
            "object_fit": null,
            "object_position": null,
            "order": null,
            "overflow": null,
            "overflow_x": null,
            "overflow_y": null,
            "padding": null,
            "right": null,
            "top": null,
            "visibility": "hidden",
            "width": null
          }
        },
        "c62e82d2b57642b78395bc39fc1223d1": {
          "model_module": "@jupyter-widgets/base",
          "model_module_version": "1.2.0",
          "model_name": "LayoutModel",
          "state": {
            "_model_module": "@jupyter-widgets/base",
            "_model_module_version": "1.2.0",
            "_model_name": "LayoutModel",
            "_view_count": null,
            "_view_module": "@jupyter-widgets/base",
            "_view_module_version": "1.2.0",
            "_view_name": "LayoutView",
            "align_content": null,
            "align_items": null,
            "align_self": null,
            "border": null,
            "bottom": null,
            "display": null,
            "flex": null,
            "flex_flow": null,
            "grid_area": null,
            "grid_auto_columns": null,
            "grid_auto_flow": null,
            "grid_auto_rows": null,
            "grid_column": null,
            "grid_gap": null,
            "grid_row": null,
            "grid_template_areas": null,
            "grid_template_columns": null,
            "grid_template_rows": null,
            "height": null,
            "justify_content": null,
            "justify_items": null,
            "left": null,
            "margin": null,
            "max_height": null,
            "max_width": null,
            "min_height": null,
            "min_width": null,
            "object_fit": null,
            "object_position": null,
            "order": null,
            "overflow": null,
            "overflow_x": null,
            "overflow_y": null,
            "padding": null,
            "right": null,
            "top": null,
            "visibility": null,
            "width": null
          }
        },
        "cbef2966aa5d4c56bf6e9496fdc87af0": {
          "model_module": "@jupyter-widgets/controls",
          "model_module_version": "1.5.0",
          "model_name": "HBoxModel",
          "state": {
            "_dom_classes": [],
            "_model_module": "@jupyter-widgets/controls",
            "_model_module_version": "1.5.0",
            "_model_name": "HBoxModel",
            "_view_count": null,
            "_view_module": "@jupyter-widgets/controls",
            "_view_module_version": "1.5.0",
            "_view_name": "HBoxView",
            "box_style": "",
            "children": [
              "IPY_MODEL_d1c99ca57efe45a6bc32206afca122e8",
              "IPY_MODEL_b99cf6d765884fe09837483843c72e36",
              "IPY_MODEL_9833b69ff4574cd983b610977a0a8417"
            ],
            "layout": "IPY_MODEL_fa0df544faff4cbcaad325c3d2f40a9d"
          }
        },
        "cdcd488d70054dee84245279b06a0c27": {
          "model_module": "@jupyter-widgets/controls",
          "model_module_version": "1.5.0",
          "model_name": "DescriptionStyleModel",
          "state": {
            "_model_module": "@jupyter-widgets/controls",
            "_model_module_version": "1.5.0",
            "_model_name": "DescriptionStyleModel",
            "_view_count": null,
            "_view_module": "@jupyter-widgets/base",
            "_view_module_version": "1.2.0",
            "_view_name": "StyleView",
            "description_width": ""
          }
        },
        "d1c99ca57efe45a6bc32206afca122e8": {
          "model_module": "@jupyter-widgets/controls",
          "model_module_version": "1.5.0",
          "model_name": "HTMLModel",
          "state": {
            "_dom_classes": [],
            "_model_module": "@jupyter-widgets/controls",
            "_model_module_version": "1.5.0",
            "_model_name": "HTMLModel",
            "_view_count": null,
            "_view_module": "@jupyter-widgets/controls",
            "_view_module_version": "1.5.0",
            "_view_name": "HTMLView",
            "description": "",
            "description_tooltip": null,
            "layout": "IPY_MODEL_82532358dc3346609effdc065dd2f677",
            "placeholder": "​",
            "style": "IPY_MODEL_f1f5e79ca3cb4a63b4272607661c4219",
            "value": "Map: 100%"
          }
        },
        "d316ac71e48b47f6b9873465b72a7020": {
          "model_module": "@jupyter-widgets/controls",
          "model_module_version": "1.5.0",
          "model_name": "ProgressStyleModel",
          "state": {
            "_model_module": "@jupyter-widgets/controls",
            "_model_module_version": "1.5.0",
            "_model_name": "ProgressStyleModel",
            "_view_count": null,
            "_view_module": "@jupyter-widgets/base",
            "_view_module_version": "1.2.0",
            "_view_name": "StyleView",
            "bar_color": null,
            "description_width": ""
          }
        },
        "de514504b9cc4818ad59308f2c6cfa23": {
          "model_module": "@jupyter-widgets/base",
          "model_module_version": "1.2.0",
          "model_name": "LayoutModel",
          "state": {
            "_model_module": "@jupyter-widgets/base",
            "_model_module_version": "1.2.0",
            "_model_name": "LayoutModel",
            "_view_count": null,
            "_view_module": "@jupyter-widgets/base",
            "_view_module_version": "1.2.0",
            "_view_name": "LayoutView",
            "align_content": null,
            "align_items": null,
            "align_self": null,
            "border": null,
            "bottom": null,
            "display": null,
            "flex": null,
            "flex_flow": null,
            "grid_area": null,
            "grid_auto_columns": null,
            "grid_auto_flow": null,
            "grid_auto_rows": null,
            "grid_column": null,
            "grid_gap": null,
            "grid_row": null,
            "grid_template_areas": null,
            "grid_template_columns": null,
            "grid_template_rows": null,
            "height": null,
            "justify_content": null,
            "justify_items": null,
            "left": null,
            "margin": null,
            "max_height": null,
            "max_width": null,
            "min_height": null,
            "min_width": null,
            "object_fit": null,
            "object_position": null,
            "order": null,
            "overflow": null,
            "overflow_x": null,
            "overflow_y": null,
            "padding": null,
            "right": null,
            "top": null,
            "visibility": null,
            "width": null
          }
        },
        "e4f8ea00a319448babc9c5df9fd1056c": {
          "model_module": "@jupyter-widgets/controls",
          "model_module_version": "1.5.0",
          "model_name": "HBoxModel",
          "state": {
            "_dom_classes": [],
            "_model_module": "@jupyter-widgets/controls",
            "_model_module_version": "1.5.0",
            "_model_name": "HBoxModel",
            "_view_count": null,
            "_view_module": "@jupyter-widgets/controls",
            "_view_module_version": "1.5.0",
            "_view_name": "HBoxView",
            "box_style": "",
            "children": [
              "IPY_MODEL_2d9deadf0e9544e6bc94230f95124294",
              "IPY_MODEL_53993c00f85a453597e7ba0a13eff7e4",
              "IPY_MODEL_0cd1f1d679db4a7c8c92820a9730b223"
            ],
            "layout": "IPY_MODEL_5a855a1166204d079f715b59dc888456"
          }
        },
        "e6e83897fbc44a94b5f3af66cda9ad96": {
          "model_module": "@jupyter-widgets/base",
          "model_module_version": "1.2.0",
          "model_name": "LayoutModel",
          "state": {
            "_model_module": "@jupyter-widgets/base",
            "_model_module_version": "1.2.0",
            "_model_name": "LayoutModel",
            "_view_count": null,
            "_view_module": "@jupyter-widgets/base",
            "_view_module_version": "1.2.0",
            "_view_name": "LayoutView",
            "align_content": null,
            "align_items": null,
            "align_self": null,
            "border": null,
            "bottom": null,
            "display": null,
            "flex": null,
            "flex_flow": null,
            "grid_area": null,
            "grid_auto_columns": null,
            "grid_auto_flow": null,
            "grid_auto_rows": null,
            "grid_column": null,
            "grid_gap": null,
            "grid_row": null,
            "grid_template_areas": null,
            "grid_template_columns": null,
            "grid_template_rows": null,
            "height": null,
            "justify_content": null,
            "justify_items": null,
            "left": null,
            "margin": null,
            "max_height": null,
            "max_width": null,
            "min_height": null,
            "min_width": null,
            "object_fit": null,
            "object_position": null,
            "order": null,
            "overflow": null,
            "overflow_x": null,
            "overflow_y": null,
            "padding": null,
            "right": null,
            "top": null,
            "visibility": null,
            "width": null
          }
        },
        "f1f5e79ca3cb4a63b4272607661c4219": {
          "model_module": "@jupyter-widgets/controls",
          "model_module_version": "1.5.0",
          "model_name": "DescriptionStyleModel",
          "state": {
            "_model_module": "@jupyter-widgets/controls",
            "_model_module_version": "1.5.0",
            "_model_name": "DescriptionStyleModel",
            "_view_count": null,
            "_view_module": "@jupyter-widgets/base",
            "_view_module_version": "1.2.0",
            "_view_name": "StyleView",
            "description_width": ""
          }
        },
        "fa0df544faff4cbcaad325c3d2f40a9d": {
          "model_module": "@jupyter-widgets/base",
          "model_module_version": "1.2.0",
          "model_name": "LayoutModel",
          "state": {
            "_model_module": "@jupyter-widgets/base",
            "_model_module_version": "1.2.0",
            "_model_name": "LayoutModel",
            "_view_count": null,
            "_view_module": "@jupyter-widgets/base",
            "_view_module_version": "1.2.0",
            "_view_name": "LayoutView",
            "align_content": null,
            "align_items": null,
            "align_self": null,
            "border": null,
            "bottom": null,
            "display": null,
            "flex": null,
            "flex_flow": null,
            "grid_area": null,
            "grid_auto_columns": null,
            "grid_auto_flow": null,
            "grid_auto_rows": null,
            "grid_column": null,
            "grid_gap": null,
            "grid_row": null,
            "grid_template_areas": null,
            "grid_template_columns": null,
            "grid_template_rows": null,
            "height": null,
            "justify_content": null,
            "justify_items": null,
            "left": null,
            "margin": null,
            "max_height": null,
            "max_width": null,
            "min_height": null,
            "min_width": null,
            "object_fit": null,
            "object_position": null,
            "order": null,
            "overflow": null,
            "overflow_x": null,
            "overflow_y": null,
            "padding": null,
            "right": null,
            "top": null,
            "visibility": "hidden",
            "width": null
          }
        },
        "fa8fe1c0e2e04b4ca9944b06cc540d3a": {
          "model_module": "@jupyter-widgets/base",
          "model_module_version": "1.2.0",
          "model_name": "LayoutModel",
          "state": {
            "_model_module": "@jupyter-widgets/base",
            "_model_module_version": "1.2.0",
            "_model_name": "LayoutModel",
            "_view_count": null,
            "_view_module": "@jupyter-widgets/base",
            "_view_module_version": "1.2.0",
            "_view_name": "LayoutView",
            "align_content": null,
            "align_items": null,
            "align_self": null,
            "border": null,
            "bottom": null,
            "display": null,
            "flex": null,
            "flex_flow": null,
            "grid_area": null,
            "grid_auto_columns": null,
            "grid_auto_flow": null,
            "grid_auto_rows": null,
            "grid_column": null,
            "grid_gap": null,
            "grid_row": null,
            "grid_template_areas": null,
            "grid_template_columns": null,
            "grid_template_rows": null,
            "height": null,
            "justify_content": null,
            "justify_items": null,
            "left": null,
            "margin": null,
            "max_height": null,
            "max_width": null,
            "min_height": null,
            "min_width": null,
            "object_fit": null,
            "object_position": null,
            "order": null,
            "overflow": null,
            "overflow_x": null,
            "overflow_y": null,
            "padding": null,
            "right": null,
            "top": null,
            "visibility": null,
            "width": null
          }
        },
        "fd9e9010e20a43e497fb5a99515ed61a": {
          "model_module": "@jupyter-widgets/controls",
          "model_module_version": "1.5.0",
          "model_name": "DescriptionStyleModel",
          "state": {
            "_model_module": "@jupyter-widgets/controls",
            "_model_module_version": "1.5.0",
            "_model_name": "DescriptionStyleModel",
            "_view_count": null,
            "_view_module": "@jupyter-widgets/base",
            "_view_module_version": "1.2.0",
            "_view_name": "StyleView",
            "description_width": ""
          }
        }
      }
    }
  },
  "nbformat": 4,
  "nbformat_minor": 0
}
